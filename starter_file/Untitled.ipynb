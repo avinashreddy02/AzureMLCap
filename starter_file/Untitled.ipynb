{
 "cells": [
  {
   "cell_type": "code",
   "execution_count": 2,
   "metadata": {},
   "outputs": [],
   "source": [
    "from sklearn.ensemble import DecisionTreeRegressor\n",
    "import argparse\n",
    "import os\n",
    "import numpy as np\n",
    "from sklearn.metrics import mean_squared_error\n",
    "import joblib\n",
    "from sklearn.model_selection import train_test_split\n",
    "from sklearn.preprocessing import OneHotEncoder\n",
    "import pandas as pd\n",
    "from azureml.core.workspace import Workspace\n",
    "from azureml.core.dataset import Dataset\n",
    "from sklearn.preprocessing import StandardScaler\n",
    "from sklearn.metrics import mean_squared_error\n",
    "from azureml.core.run import Run\n"
   ]
  },
  {
   "cell_type": "code",
   "execution_count": 6,
   "metadata": {},
   "outputs": [],
   "source": [
    "def clean_data():\n",
    "    df.drop(\"id\",inplace = True,axis = 1)\n",
    "    df.drop(\"zipcode\",inplace = True,axis = 1)\n",
    "    df.drop(\"date\",inplace = True,axis = 1)\n",
    "    y_df = df.pop(\"price\")\n",
    "    \n",
    "    scalar = StandardScaler()\n",
    "\n",
    "    x_df = scalar.fit(df)\n",
    "    \n",
    "    return x_df,y_df\n",
    "    "
   ]
  },
  {
   "cell_type": "code",
   "execution_count": null,
   "metadata": {},
   "outputs": [],
   "source": [
    "\n",
    "def main():\n",
    "    \n",
    "    parser = argparse.ArgumentParser()\n",
    "    \n",
    "    parser.add_argument('--n_estimators',type = int, default = 100, help = \"number of estimators\")\n",
    "    parser.add_argument('--max_depth',type = int, help = \"depth of the tree\")\n",
    "    parser.add_argument('--min_samples_split',type = int, default = 2, help = \"the minimum number of samples required to split an internal node\")\n",
    "    \n",
    "    args = parser.parse_args()\n",
    "    \n",
    "    run.log(\"Number of Estimators\", np.int(args.n_estimators))\n",
    "    run.log(\"maximum depth\", np.int(args.max_depth))\n",
    "    run.log(\"minimum samples split\",np.int(args.min_samples_split))\n",
    "    \n",
    "    model = RandomForestRegressor(n_estimators = args.n_estimators,max_depth = args.max_depth,\n",
    "                                 min_samples_split = args.min_samples_split).fit(x_train,y_train)\n",
    "    accuracy = model.score(x_test,y_test)\n",
    "    run.log(\"accuracy\",np.float(accuracy))\n",
    "    \n",
    "    y_pred = model.predict(x_test)\n",
    "    mse = mean_squared_error(y_true,y_pred)\n",
    "    print(mse)\n",
    "    \n",
    "    os.makedirs('outputs',exit_ok = True)\n",
    "    joblib.dump(model,'output/model.joblib')\n",
    "    \n",
    "\n",
    "    \n",
    "x_df, y_df = clean_data(data)\n",
    "\n",
    "x_train,x_test,y_train,y_test = train_test_split(x_df,y_df,test_size = 0.3, random_state = 42)\n",
    "\n",
    "run = Run.get_context()\n",
    "\n",
    "if __name__ == '__main__':\n",
    "    \n",
    "    main()\n",
    "    "
   ]
  }
 ],
 "metadata": {
  "kernelspec": {
   "display_name": "Python 3",
   "language": "python",
   "name": "python3"
  },
  "language_info": {
   "codemirror_mode": {
    "name": "ipython",
    "version": 3
   },
   "file_extension": ".py",
   "mimetype": "text/x-python",
   "name": "python",
   "nbconvert_exporter": "python",
   "pygments_lexer": "ipython3",
   "version": "3.8.3"
  }
 },
 "nbformat": 4,
 "nbformat_minor": 4
}
