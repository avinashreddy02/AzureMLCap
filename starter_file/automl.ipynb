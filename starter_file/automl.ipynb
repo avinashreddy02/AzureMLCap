{
  "cells": [
    {
      "cell_type": "markdown",
      "source": [
        "# Automated ML\n",
        "\n"
      ],
      "metadata": {}
    },
    {
      "cell_type": "code",
      "source": [
        "import logging \n",
        "import os\n",
        "import csv\n",
        "\n",
        "from matplotlib import pyplot as plt \n",
        "import numpy as np\n",
        "import pandas as pd\n",
        "\n",
        "import pkg_resources\n",
        "\n",
        "import azureml.core\n",
        "from azureml.core.experiment import Experiment\n",
        "from azureml.core.workspace import Workspace\n",
        "from azureml.train.automl import AutoMLConfig\n",
        "from azureml.core.dataset import Dataset\n",
        "\n",
        "from azureml.pipeline.steps import AutoMLStep\n",
        "\n",
        "print(\"SDK Version:\",azureml.core.VERSION)"
      ],
      "outputs": [
        {
          "output_type": "stream",
          "name": "stdout",
          "text": [
            "SDK Version: 1.18.0\n"
          ]
        }
      ],
      "execution_count": 1,
      "metadata": {
        "gather": {
          "logged": 1607281002137
        },
        "jupyter": {
          "outputs_hidden": false,
          "source_hidden": false
        },
        "nteract": {
          "transient": {
            "deleting": false
          }
        }
      }
    },
    {
      "cell_type": "markdown",
      "source": [
        "## Dataset\n",
        "\n",
        "### Overview\n",
        "\n",
        "This dataset contains house sale prices for King County, which includes Seattle. It includes homes sold between May 2014 and May 2015.\n",
        "\n",
        "It's a great dataset for evaluating regression models to predict the house price \n",
        "\n"
      ],
      "metadata": {}
    },
    {
      "cell_type": "code",
      "source": [
        "ws = Workspace.from_config()\n",
        "\n",
        "# choose a name for experiment\n",
        "experiment_name = 'Avinash-AutoML'\n",
        "\n",
        "experiment=Experiment(ws, experiment_name)"
      ],
      "outputs": [
        {
          "output_type": "stream",
          "name": "stdout",
          "text": [
            "Performing interactive authentication. Please follow the instructions on the terminal.\n",
            "To sign in, use a web browser to open the page https://microsoft.com/devicelogin and enter the code FC4DFJP6G to authenticate.\n",
            "You have logged in. Now let us find all the subscriptions to which you have access...\n",
            "Interactive authentication successfully completed.\n"
          ]
        }
      ],
      "execution_count": 2,
      "metadata": {
        "gather": {
          "logged": 1607281045511
        }
      }
    },
    {
      "cell_type": "code",
      "source": [
        "from azureml.core.compute import AmlCompute\n",
        "from azureml.core.compute import ComputeTarget\n",
        "from azureml.core.compute_target import ComputeTargetException\n",
        "\n",
        "aml_compute_cluster = \"Avinash-Test\"\n",
        "\n",
        "try:\n",
        "    compute_target = ComputeTarget(workspace=ws,name = aml_compute_cluster)\n",
        "    print('Found Exisitng cluster, use it ')\n",
        "except ComputeTargetException:\n",
        "\n",
        "    compute_config = AmlCompute.provisioning_configuration(vm_size='STANDARD_DS12_V2',max_nodes = 4,)\n",
        "    compute_target = ComputeTarget.create(ws,aml_compute_cluster)\n",
        "\n",
        "\n",
        "compute_target.wait_for_completion(show_output=True)"
      ],
      "outputs": [
        {
          "output_type": "stream",
          "name": "stdout",
          "text": [
            "Found Exisitng cluster, use it \n",
            "Succeeded\n",
            "AmlCompute wait for completion finished\n",
            "\n",
            "Minimum number of nodes requested have been provisioned\n"
          ]
        }
      ],
      "execution_count": 3,
      "metadata": {
        "collapsed": true,
        "gather": {
          "logged": 1607281048536
        },
        "jupyter": {
          "outputs_hidden": false,
          "source_hidden": false
        },
        "nteract": {
          "transient": {
            "deleting": false
          }
        }
      }
    },
    {
      "cell_type": "code",
      "source": [
        "found = False\n",
        "\n",
        "key = \"house_sales\"\n",
        "description_text = \"house sales prediction dataset\"\n",
        "\n",
        "if key in ws.datasets.keys():\n",
        "    found = True\n",
        "    dataset = ws.datasets[key]\n",
        "\n",
        "df = dataset.to_pandas_dataframe()\n",
        "df.describe()"
      ],
      "outputs": [
        {
          "output_type": "execute_result",
          "execution_count": 4,
          "data": {
            "text/plain": "                 id         price      bedrooms     bathrooms   sqft_living  \\\ncount  2.161300e+04  2.161300e+04  21613.000000  21613.000000  21613.000000   \nmean   4.580302e+09  5.400881e+05      3.370842      2.114757   2079.899736   \nstd    2.876566e+09  3.671272e+05      0.930062      0.770163    918.440897   \nmin    1.000102e+06  7.500000e+04      0.000000      0.000000    290.000000   \n25%    2.123049e+09  3.219500e+05      3.000000      1.750000   1427.000000   \n50%    3.904930e+09  4.500000e+05      3.000000      2.250000   1910.000000   \n75%    7.308900e+09  6.450000e+05      4.000000      2.500000   2550.000000   \nmax    9.900000e+09  7.700000e+06     33.000000      8.000000  13540.000000   \n\n           sqft_lot        floors    waterfront          view     condition  \\\ncount  2.161300e+04  21613.000000  21613.000000  21613.000000  21613.000000   \nmean   1.510697e+04      1.494309      0.007542      0.234303      3.409430   \nstd    4.142051e+04      0.539989      0.086517      0.766318      0.650743   \nmin    5.200000e+02      1.000000      0.000000      0.000000      1.000000   \n25%    5.040000e+03      1.000000      0.000000      0.000000      3.000000   \n50%    7.618000e+03      1.500000      0.000000      0.000000      3.000000   \n75%    1.068800e+04      2.000000      0.000000      0.000000      4.000000   \nmax    1.651359e+06      3.500000      1.000000      4.000000      5.000000   \n\n              grade    sqft_above  sqft_basement      yr_built  yr_renovated  \\\ncount  21613.000000  21613.000000   21613.000000  21613.000000  21613.000000   \nmean       7.656873   1788.390691     291.509045   1971.005136     84.402258   \nstd        1.175459    828.090978     442.575043     29.373411    401.679240   \nmin        1.000000    290.000000       0.000000   1900.000000      0.000000   \n25%        7.000000   1190.000000       0.000000   1951.000000      0.000000   \n50%        7.000000   1560.000000       0.000000   1975.000000      0.000000   \n75%        8.000000   2210.000000     560.000000   1997.000000      0.000000   \nmax       13.000000   9410.000000    4820.000000   2015.000000   2015.000000   \n\n            zipcode           lat          long  sqft_living15     sqft_lot15  \ncount  21613.000000  21613.000000  21613.000000   21613.000000   21613.000000  \nmean   98077.939805     47.560053   -122.213896    1986.552492   12768.455652  \nstd       53.505026      0.138564      0.140828     685.391304   27304.179631  \nmin    98001.000000     47.155900   -122.519000     399.000000     651.000000  \n25%    98033.000000     47.471000   -122.328000    1490.000000    5100.000000  \n50%    98065.000000     47.571800   -122.230000    1840.000000    7620.000000  \n75%    98118.000000     47.678000   -122.125000    2360.000000   10083.000000  \nmax    98199.000000     47.777600   -121.315000    6210.000000  871200.000000  ",
            "text/html": "<div>\n<style scoped>\n    .dataframe tbody tr th:only-of-type {\n        vertical-align: middle;\n    }\n\n    .dataframe tbody tr th {\n        vertical-align: top;\n    }\n\n    .dataframe thead th {\n        text-align: right;\n    }\n</style>\n<table border=\"1\" class=\"dataframe\">\n  <thead>\n    <tr style=\"text-align: right;\">\n      <th></th>\n      <th>id</th>\n      <th>price</th>\n      <th>bedrooms</th>\n      <th>bathrooms</th>\n      <th>sqft_living</th>\n      <th>sqft_lot</th>\n      <th>floors</th>\n      <th>waterfront</th>\n      <th>view</th>\n      <th>condition</th>\n      <th>grade</th>\n      <th>sqft_above</th>\n      <th>sqft_basement</th>\n      <th>yr_built</th>\n      <th>yr_renovated</th>\n      <th>zipcode</th>\n      <th>lat</th>\n      <th>long</th>\n      <th>sqft_living15</th>\n      <th>sqft_lot15</th>\n    </tr>\n  </thead>\n  <tbody>\n    <tr>\n      <th>count</th>\n      <td>2.161300e+04</td>\n      <td>2.161300e+04</td>\n      <td>21613.000000</td>\n      <td>21613.000000</td>\n      <td>21613.000000</td>\n      <td>2.161300e+04</td>\n      <td>21613.000000</td>\n      <td>21613.000000</td>\n      <td>21613.000000</td>\n      <td>21613.000000</td>\n      <td>21613.000000</td>\n      <td>21613.000000</td>\n      <td>21613.000000</td>\n      <td>21613.000000</td>\n      <td>21613.000000</td>\n      <td>21613.000000</td>\n      <td>21613.000000</td>\n      <td>21613.000000</td>\n      <td>21613.000000</td>\n      <td>21613.000000</td>\n    </tr>\n    <tr>\n      <th>mean</th>\n      <td>4.580302e+09</td>\n      <td>5.400881e+05</td>\n      <td>3.370842</td>\n      <td>2.114757</td>\n      <td>2079.899736</td>\n      <td>1.510697e+04</td>\n      <td>1.494309</td>\n      <td>0.007542</td>\n      <td>0.234303</td>\n      <td>3.409430</td>\n      <td>7.656873</td>\n      <td>1788.390691</td>\n      <td>291.509045</td>\n      <td>1971.005136</td>\n      <td>84.402258</td>\n      <td>98077.939805</td>\n      <td>47.560053</td>\n      <td>-122.213896</td>\n      <td>1986.552492</td>\n      <td>12768.455652</td>\n    </tr>\n    <tr>\n      <th>std</th>\n      <td>2.876566e+09</td>\n      <td>3.671272e+05</td>\n      <td>0.930062</td>\n      <td>0.770163</td>\n      <td>918.440897</td>\n      <td>4.142051e+04</td>\n      <td>0.539989</td>\n      <td>0.086517</td>\n      <td>0.766318</td>\n      <td>0.650743</td>\n      <td>1.175459</td>\n      <td>828.090978</td>\n      <td>442.575043</td>\n      <td>29.373411</td>\n      <td>401.679240</td>\n      <td>53.505026</td>\n      <td>0.138564</td>\n      <td>0.140828</td>\n      <td>685.391304</td>\n      <td>27304.179631</td>\n    </tr>\n    <tr>\n      <th>min</th>\n      <td>1.000102e+06</td>\n      <td>7.500000e+04</td>\n      <td>0.000000</td>\n      <td>0.000000</td>\n      <td>290.000000</td>\n      <td>5.200000e+02</td>\n      <td>1.000000</td>\n      <td>0.000000</td>\n      <td>0.000000</td>\n      <td>1.000000</td>\n      <td>1.000000</td>\n      <td>290.000000</td>\n      <td>0.000000</td>\n      <td>1900.000000</td>\n      <td>0.000000</td>\n      <td>98001.000000</td>\n      <td>47.155900</td>\n      <td>-122.519000</td>\n      <td>399.000000</td>\n      <td>651.000000</td>\n    </tr>\n    <tr>\n      <th>25%</th>\n      <td>2.123049e+09</td>\n      <td>3.219500e+05</td>\n      <td>3.000000</td>\n      <td>1.750000</td>\n      <td>1427.000000</td>\n      <td>5.040000e+03</td>\n      <td>1.000000</td>\n      <td>0.000000</td>\n      <td>0.000000</td>\n      <td>3.000000</td>\n      <td>7.000000</td>\n      <td>1190.000000</td>\n      <td>0.000000</td>\n      <td>1951.000000</td>\n      <td>0.000000</td>\n      <td>98033.000000</td>\n      <td>47.471000</td>\n      <td>-122.328000</td>\n      <td>1490.000000</td>\n      <td>5100.000000</td>\n    </tr>\n    <tr>\n      <th>50%</th>\n      <td>3.904930e+09</td>\n      <td>4.500000e+05</td>\n      <td>3.000000</td>\n      <td>2.250000</td>\n      <td>1910.000000</td>\n      <td>7.618000e+03</td>\n      <td>1.500000</td>\n      <td>0.000000</td>\n      <td>0.000000</td>\n      <td>3.000000</td>\n      <td>7.000000</td>\n      <td>1560.000000</td>\n      <td>0.000000</td>\n      <td>1975.000000</td>\n      <td>0.000000</td>\n      <td>98065.000000</td>\n      <td>47.571800</td>\n      <td>-122.230000</td>\n      <td>1840.000000</td>\n      <td>7620.000000</td>\n    </tr>\n    <tr>\n      <th>75%</th>\n      <td>7.308900e+09</td>\n      <td>6.450000e+05</td>\n      <td>4.000000</td>\n      <td>2.500000</td>\n      <td>2550.000000</td>\n      <td>1.068800e+04</td>\n      <td>2.000000</td>\n      <td>0.000000</td>\n      <td>0.000000</td>\n      <td>4.000000</td>\n      <td>8.000000</td>\n      <td>2210.000000</td>\n      <td>560.000000</td>\n      <td>1997.000000</td>\n      <td>0.000000</td>\n      <td>98118.000000</td>\n      <td>47.678000</td>\n      <td>-122.125000</td>\n      <td>2360.000000</td>\n      <td>10083.000000</td>\n    </tr>\n    <tr>\n      <th>max</th>\n      <td>9.900000e+09</td>\n      <td>7.700000e+06</td>\n      <td>33.000000</td>\n      <td>8.000000</td>\n      <td>13540.000000</td>\n      <td>1.651359e+06</td>\n      <td>3.500000</td>\n      <td>1.000000</td>\n      <td>4.000000</td>\n      <td>5.000000</td>\n      <td>13.000000</td>\n      <td>9410.000000</td>\n      <td>4820.000000</td>\n      <td>2015.000000</td>\n      <td>2015.000000</td>\n      <td>98199.000000</td>\n      <td>47.777600</td>\n      <td>-121.315000</td>\n      <td>6210.000000</td>\n      <td>871200.000000</td>\n    </tr>\n  </tbody>\n</table>\n</div>"
          },
          "metadata": {}
        }
      ],
      "execution_count": 4,
      "metadata": {
        "collapsed": true,
        "gather": {
          "logged": 1607281062549
        },
        "jupyter": {
          "outputs_hidden": false,
          "source_hidden": false
        },
        "nteract": {
          "transient": {
            "deleting": false
          }
        }
      }
    },
    {
      "cell_type": "code",
      "source": [
        "from sklearn.model_selection import train_test_split\n",
        "x_train, x_test = train_test_split(df,test_size = 0.2,random_state = 42)"
      ],
      "outputs": [],
      "execution_count": 5,
      "metadata": {
        "collapsed": true,
        "gather": {
          "logged": 1607281065859
        },
        "jupyter": {
          "outputs_hidden": false,
          "source_hidden": false
        },
        "nteract": {
          "transient": {
            "deleting": false
          }
        }
      }
    },
    {
      "cell_type": "markdown",
      "source": [
        "## AutoML Configuration\n",
        "\n"
      ],
      "metadata": {}
    },
    {
      "cell_type": "code",
      "source": [
        "# TODO: Put your automl settings here\n",
        "automl_settings = {\n",
        "    \"iteration_timeout_minutes\": 10,\n",
        "    \"experiment_timeout_hours\" : 0.3,\n",
        "    \"enable_early_stopping\": True,\n",
        "    \"primary_metric\" : 'normalized_mean_absolute_error',\n",
        "    \"featurization\": 'auto',\n",
        "    \"verbosity\": logging.INFO,\n",
        "    \"n_cross_validations\": 5\n",
        "}\n",
        "\n",
        "# TODO: Put your automl config here\n",
        "automl_config = AutoMLConfig(\n",
        "    task = 'regression',\n",
        "    debug_log = 'automl_reg_errors.log',\n",
        "    training_data = x_train,\n",
        "    label_column_name = \"price\",\n",
        "    **automl_settings\n",
        ")"
      ],
      "outputs": [],
      "execution_count": 6,
      "metadata": {
        "gather": {
          "logged": 1607281069846
        },
        "jupyter": {
          "outputs_hidden": false,
          "source_hidden": false
        },
        "nteract": {
          "transient": {
            "deleting": false
          }
        }
      }
    },
    {
      "cell_type": "markdown",
      "source": [
        "## Run Details\n",
        "\n"
      ],
      "metadata": {}
    },
    {
      "cell_type": "code",
      "source": [
        "from azureml.widgets import RunDetails\n",
        "# TODO: Submit your experiment\n",
        "remote_run = experiment.submit(automl_config, show_output = True)\n",
        "\n",
        "\n"
      ],
      "outputs": [
        {
          "output_type": "stream",
          "name": "stdout",
          "text": [
            "Running on local machine\n",
            "Parent Run ID: AutoML_a6ec38e7-9680-4b79-866b-f62133f6cb79\n",
            "\n",
            "Current status: DatasetEvaluation. Gathering dataset statistics.\n",
            "Current status: FeaturesGeneration. Generating features for the dataset.\n",
            "Current status: DatasetFeaturization. Beginning to fit featurizers and featurize the dataset.\n",
            "Current status: DatasetFeaturizationCompleted. Completed fit featurizers and featurizing the dataset.\n",
            "Current status: DatasetCrossValidationSplit. Generating individually featurized CV splits.\n",
            "\n",
            "****************************************************************************************************\n",
            "DATA GUARDRAILS: \n",
            "\n",
            "TYPE:         Missing feature values imputation\n",
            "STATUS:       PASSED\n",
            "DESCRIPTION:  No feature missing values were detected in the training data.\n",
            "              Learn more about missing value imputation: https://aka.ms/AutomatedMLFeaturization\n",
            "\n",
            "****************************************************************************************************\n",
            "\n",
            "TYPE:         High cardinality feature detection\n",
            "STATUS:       DONE\n",
            "DESCRIPTION:  High cardinality features were detected in your inputs and handled.\n",
            "              Learn more about high cardinality feature handling: https://aka.ms/AutomatedMLFeaturization\n",
            "DETAILS:      High cardinality features refer to columns that contain a large percentage of unique values.\n",
            "+---------------------------------+---------------------------------+\n",
            "|Column name                      |Column Content Type              |\n",
            "+=================================+=================================+\n",
            "|date                             |categorical_hash                 |\n",
            "+---------------------------------+---------------------------------+\n",
            "\n",
            "****************************************************************************************************\n",
            "Current status: ModelSelection. Beginning model selection.\n",
            "\n",
            "****************************************************************************************************\n",
            "ITERATION: The iteration being evaluated.\n",
            "PIPELINE: A summary description of the pipeline being evaluated.\n",
            "DURATION: Time taken for the current iteration.\n",
            "METRIC: The result of computing score on the fitted pipeline.\n",
            "BEST: The best observed score thus far.\n",
            "****************************************************************************************************\n",
            "\n",
            " ITERATION   PIPELINE                                       DURATION      METRIC      BEST\n",
            "         0   MaxAbsScaler LightGBM                          0:00:33       0.0089    0.0089\n",
            "         1   MaxAbsScaler XGBoostRegressor                  0:00:32       0.0105    0.0089\n",
            "         2   MaxAbsScaler DecisionTree                      0:00:25       0.0153    0.0089\n",
            "         3   MaxAbsScaler DecisionTree                      0:00:24       0.0150    0.0089\n",
            "         4   MaxAbsScaler DecisionTree                      0:00:26       0.0124    0.0089\n",
            "         5   MaxAbsScaler DecisionTree                      0:00:24       0.0142    0.0089\n",
            "         6   MaxAbsScaler DecisionTree                      0:00:24       0.0166    0.0089\n",
            "         7   MaxAbsScaler DecisionTree                      0:00:24       0.0158    0.0089\n",
            "         8   MaxAbsScaler DecisionTree                      0:00:24       0.0157    0.0089\n",
            "         9   MaxAbsScaler SGD                               0:00:22       0.0195    0.0089\n",
            "        10   MaxAbsScaler DecisionTree                      0:00:25       0.0158    0.0089\n",
            "        11   MaxAbsScaler ElasticNet                        0:02:00       0.0185    0.0089\n",
            "        12   MaxAbsScaler DecisionTree                      0:00:24       0.0189    0.0089\n",
            "        13   StandardScalerWrapper ElasticNet               0:01:59       0.0158    0.0089\n",
            "        14   MaxAbsScaler DecisionTree                      0:00:24       0.0153    0.0089\n",
            "        15   MaxAbsScaler DecisionTree                      0:00:24       0.0166    0.0089\n",
            "        16   MaxAbsScaler DecisionTree                      0:00:25       0.0137    0.0089\n",
            "        17   MaxAbsScaler DecisionTree                      0:00:25       0.0143    0.0089\n",
            "        18   MaxAbsScaler SGD                               0:00:25       0.0689    0.0089\n",
            "        19   MaxAbsScaler DecisionTree                      0:00:24       0.0131    0.0089\n",
            "        20   MaxAbsScaler DecisionTree                      0:00:25       0.0150    0.0089\n",
            "        21   MaxAbsScaler DecisionTree                      0:00:25       0.0154    0.0089\n",
            "        22   MaxAbsScaler RandomForest                      0:00:45       0.0132    0.0089\n",
            "        23   MaxAbsScaler RandomForest                      0:00:44       0.0130    0.0089\n",
            "        24   MaxAbsScaler RandomForest                      0:00:45       0.0126    0.0089\n",
            "        25   MaxAbsScaler LightGBM                          0:00:25       0.0176    0.0089\n",
            "        26   MaxAbsScaler ExtremeRandomTrees                0:00:28       0.0144    0.0089\n",
            "        27   MaxAbsScaler DecisionTree                      0:00:24       0.0133    0.0089\n",
            "        28   MaxAbsScaler RandomForest                      0:00:31       0.0142    0.0089\n",
            "        29                                                  0:01:01          nan    0.0089\n",
            "ERROR: Iteration timeout reached, skipping execution of the child run. Consider increasing iteration_timeout_minutes.\n",
            "        30   VotingEnsemble                                 0:00:49       0.0089    0.0089\n",
            "        31   StackEnsemble                                  0:00:47       0.0090    0.0089\n",
            "Stopping criteria reached at iteration 32. Ending experiment.\n",
            "****************************************************************************************************\n",
            "Current status: BestRunExplainModel. Best run model explanations started\n",
            "Current status: ModelExplanationDataSetSetup. Model explanations data setup completed\n",
            "Current status: PickSurrogateModel. Choosing LightGBM as the surrogate model for explanations\n",
            "Current status: EngineeredFeatureExplanations. Computation of engineered features started\n",
            "Current status: EngineeredFeatureExplanations. Computation of engineered features completed\n",
            "Current status: RawFeaturesExplanations. Computation of raw features started\n",
            "Current status: RawFeaturesExplanations. Computation of raw features completed\n",
            "Current status: BestRunExplainModel. Best run model explanations completed\n",
            "****************************************************************************************************\n"
          ]
        }
      ],
      "execution_count": 7,
      "metadata": {
        "gather": {
          "logged": 1607282663181
        },
        "jupyter": {
          "outputs_hidden": false,
          "source_hidden": false
        },
        "nteract": {
          "transient": {
            "deleting": false
          }
        }
      }
    },
    {
      "cell_type": "code",
      "source": [
        "RunDetails(remote_run).show()\r\n",
        "remote_run.get_status()\r\n",
        "remote_run.wait_for_completion()"
      ],
      "outputs": [
        {
          "output_type": "display_data",
          "data": {
            "text/plain": "_AutoMLWidget(widget_settings={'childWidgetDisplay': 'popup', 'send_telemetry': False, 'log_level': 'INFO', 's…",
            "application/vnd.jupyter.widget-view+json": {
              "version_major": 2,
              "version_minor": 0,
              "model_id": "e971f53bfcc14f86b9f30182976e79cb"
            }
          },
          "metadata": {}
        },
        {
          "output_type": "display_data",
          "data": {
            "application/aml.mini.widget.v1": "{\"status\": \"Completed\", \"workbench_run_details_uri\": \"https://ml.azure.com/experiments/Avinash-AutoML/runs/AutoML_a6ec38e7-9680-4b79-866b-f62133f6cb79?wsid=/subscriptions/e8f628b3-bb5b-4edf-947a-8637ca6ea7c2/resourcegroups/aml-quickstarts-129522/workspaces/quick-starts-ws-129522\", \"run_id\": \"AutoML_a6ec38e7-9680-4b79-866b-f62133f6cb79\", \"run_properties\": {\"run_id\": \"AutoML_a6ec38e7-9680-4b79-866b-f62133f6cb79\", \"created_utc\": \"2020-12-06T19:03:10.432216Z\", \"properties\": {\"num_iterations\": \"1000\", \"training_type\": \"TrainFull\", \"acquisition_function\": \"EI\", \"primary_metric\": \"normalized_mean_absolute_error\", \"train_split\": \"0\", \"acquisition_parameter\": \"0\", \"num_cross_validation\": \"5\", \"target\": \"local\", \"AMLSettingsJsonString\": \"{\\\"path\\\":null,\\\"name\\\":\\\"Avinash-AutoML\\\",\\\"subscription_id\\\":\\\"e8f628b3-bb5b-4edf-947a-8637ca6ea7c2\\\",\\\"resource_group\\\":\\\"aml-quickstarts-129522\\\",\\\"workspace_name\\\":\\\"quick-starts-ws-129522\\\",\\\"region\\\":\\\"southcentralus\\\",\\\"compute_target\\\":\\\"local\\\",\\\"spark_service\\\":null,\\\"azure_service\\\":\\\"Microsoft.AzureNotebookVM\\\",\\\"_local_managed_run_id\\\":null,\\\"many_models\\\":false,\\\"pipeline_fetch_max_batch_size\\\":1,\\\"iterations\\\":1000,\\\"primary_metric\\\":\\\"normalized_mean_absolute_error\\\",\\\"task_type\\\":\\\"regression\\\",\\\"data_script\\\":null,\\\"validation_size\\\":0.0,\\\"n_cross_validations\\\":5,\\\"y_min\\\":null,\\\"y_max\\\":null,\\\"num_classes\\\":null,\\\"featurization\\\":\\\"auto\\\",\\\"_ignore_package_version_incompatibilities\\\":false,\\\"is_timeseries\\\":false,\\\"max_cores_per_iteration\\\":1,\\\"max_concurrent_iterations\\\":1,\\\"iteration_timeout_minutes\\\":10,\\\"mem_in_mb\\\":null,\\\"enforce_time_on_windows\\\":false,\\\"experiment_timeout_minutes\\\":18,\\\"experiment_exit_score\\\":null,\\\"whitelist_models\\\":null,\\\"blacklist_algos\\\":[\\\"TensorFlowDNN\\\",\\\"TensorFlowLinearRegressor\\\"],\\\"supported_models\\\":[\\\"RandomForest\\\",\\\"ExtremeRandomTrees\\\",\\\"LightGBM\\\",\\\"KNN\\\",\\\"OnlineGradientDescentRegressor\\\",\\\"SGD\\\",\\\"LassoLars\\\",\\\"TensorFlowLinearRegressor\\\",\\\"GradientBoosting\\\",\\\"DecisionTree\\\",\\\"ElasticNet\\\",\\\"XGBoostRegressor\\\",\\\"TensorFlowDNN\\\",\\\"FastLinearRegressor\\\"],\\\"auto_blacklist\\\":true,\\\"blacklist_samples_reached\\\":false,\\\"exclude_nan_labels\\\":true,\\\"verbosity\\\":20,\\\"_debug_log\\\":\\\"automl_reg_errors.log\\\",\\\"show_warnings\\\":false,\\\"model_explainability\\\":true,\\\"service_url\\\":null,\\\"sdk_url\\\":null,\\\"sdk_packages\\\":null,\\\"enable_onnx_compatible_models\\\":false,\\\"enable_split_onnx_featurizer_estimator_models\\\":false,\\\"vm_type\\\":null,\\\"telemetry_verbosity\\\":20,\\\"send_telemetry\\\":true,\\\"enable_dnn\\\":false,\\\"scenario\\\":\\\"SDK-1.13.0\\\",\\\"environment_label\\\":null,\\\"force_text_dnn\\\":false,\\\"enable_feature_sweeping\\\":true,\\\"enable_early_stopping\\\":true,\\\"early_stopping_n_iters\\\":10,\\\"metrics\\\":null,\\\"enable_ensembling\\\":true,\\\"enable_stack_ensembling\\\":true,\\\"ensemble_iterations\\\":15,\\\"enable_tf\\\":false,\\\"enable_subsampling\\\":null,\\\"subsample_seed\\\":null,\\\"enable_nimbusml\\\":false,\\\"enable_streaming\\\":false,\\\"force_streaming\\\":false,\\\"track_child_runs\\\":true,\\\"allowed_private_models\\\":[],\\\"label_column_name\\\":\\\"price\\\",\\\"weight_column_name\\\":null,\\\"cv_split_column_names\\\":null,\\\"enable_local_managed\\\":false,\\\"cost_mode\\\":1,\\\"lag_length\\\":0,\\\"metric_operation\\\":\\\"minimize\\\",\\\"preprocess\\\":true}\", \"DataPrepJsonString\": null, \"EnableSubsampling\": null, \"runTemplate\": \"AutoML\", \"azureml.runsource\": \"automl\", \"display_task_type\": \"regression\", \"dependencies_versions\": \"{\\\"azureml-widgets\\\": \\\"1.18.0\\\", \\\"azureml-train\\\": \\\"1.18.0\\\", \\\"azureml-train-restclients-hyperdrive\\\": \\\"1.18.0\\\", \\\"azureml-train-core\\\": \\\"1.18.0\\\", \\\"azureml-train-automl\\\": \\\"1.18.0\\\", \\\"azureml-train-automl-runtime\\\": \\\"1.18.0\\\", \\\"azureml-train-automl-client\\\": \\\"1.18.0\\\", \\\"azureml-tensorboard\\\": \\\"1.18.0\\\", \\\"azureml-telemetry\\\": \\\"1.18.0\\\", \\\"azureml-sdk\\\": \\\"1.18.0\\\", \\\"azureml-samples\\\": \\\"0+unknown\\\", \\\"azureml-pipeline\\\": \\\"1.18.0\\\", \\\"azureml-pipeline-steps\\\": \\\"1.18.0\\\", \\\"azureml-pipeline-core\\\": \\\"1.18.0\\\", \\\"azureml-opendatasets\\\": \\\"1.18.0\\\", \\\"azureml-model-management-sdk\\\": \\\"1.0.1b6.post1\\\", \\\"azureml-mlflow\\\": \\\"1.18.0\\\", \\\"azureml-interpret\\\": \\\"1.18.0\\\", \\\"azureml-explain-model\\\": \\\"1.18.0\\\", \\\"azureml-defaults\\\": \\\"1.18.0\\\", \\\"azureml-dataset-runtime\\\": \\\"1.18.0\\\", \\\"azureml-dataprep\\\": \\\"2.4.2\\\", \\\"azureml-dataprep-rslex\\\": \\\"1.2.2\\\", \\\"azureml-dataprep-native\\\": \\\"24.0.0\\\", \\\"azureml-datadrift\\\": \\\"1.18.0\\\", \\\"azureml-core\\\": \\\"1.18.0\\\", \\\"azureml-contrib-services\\\": \\\"1.18.0\\\", \\\"azureml-contrib-server\\\": \\\"1.18.0\\\", \\\"azureml-contrib-reinforcementlearning\\\": \\\"1.18.0\\\", \\\"azureml-contrib-pipeline-steps\\\": \\\"1.18.0\\\", \\\"azureml-contrib-notebook\\\": \\\"1.18.0\\\", \\\"azureml-contrib-interpret\\\": \\\"1.18.0\\\", \\\"azureml-contrib-gbdt\\\": \\\"1.18.0\\\", \\\"azureml-contrib-fairness\\\": \\\"1.18.0\\\", \\\"azureml-contrib-dataset\\\": \\\"1.18.0\\\", \\\"azureml-cli-common\\\": \\\"1.18.0\\\", \\\"azureml-automl-runtime\\\": \\\"1.18.0\\\", \\\"azureml-automl-core\\\": \\\"1.18.0\\\", \\\"azureml-accel-models\\\": \\\"1.18.0\\\"}\", \"_aml_system_scenario_identification\": \"Local.Parent\", \"ClientSdkVersion\": \"1.18.0\", \"ClientType\": \"SDK\", \"environment_cpu_name\": \"AzureML-AutoML\", \"environment_cpu_version\": \"48\", \"environment_gpu_name\": \"AzureML-AutoML-GPU\", \"environment_gpu_version\": \"36\", \"root_attribution\": \"automl\", \"attribution\": \"AutoML\", \"Orchestrator\": \"AutoML\", \"_azureml.ComputeTargetType\": \"local\", \"ProblemInfoJsonString\": \"{\\\"dataset_num_categorical\\\": 0, \\\"is_sparse\\\": true, \\\"subsampling\\\": false, \\\"dataset_classes\\\": 3557, \\\"dataset_features\\\": 305, \\\"dataset_samples\\\": 17290, \\\"single_frequency_class_detected\\\": false}\", \"feature_skus\": \"automatedml_sdk_guardrails\"}, \"tags\": {\"model_explain_run\": \"best_run\", \"best_score\": \"0.008935813190536419\", \"best_pipeline\": \"LightGBM\", \"automl_best_child_run_id\": \"AutoML_a6ec38e7-9680-4b79-866b-f62133f6cb79_30\", \"model_explain_best_run_child_id\": \"AutoML_a6ec38e7-9680-4b79-866b-f62133f6cb79_30\"}, \"end_time_utc\": \"2020-12-06T19:23:38.146753Z\", \"status\": \"Completed\", \"log_files\": {}, \"log_groups\": [], \"run_duration\": \"0:20:27\"}, \"child_runs\": [{\"run_id\": \"AutoML_a6ec38e7-9680-4b79-866b-f62133f6cb79_0\", \"run_number\": 2, \"metric\": null, \"status\": \"Completed\", \"run_type\": null, \"training_percent\": \"100\", \"start_time\": \"2020-12-06T19:03:23.268194Z\", \"end_time\": \"2020-12-06T19:03:56.338371Z\", \"created_time\": \"2020-12-06T19:03:23.176044Z\", \"created_time_dt\": \"2020-12-06T19:03:23.176044Z\", \"duration\": \"0:00:33\", \"iteration\": \"0\", \"goal\": \"normalized_mean_absolute_error_min\", \"run_name\": \"MaxAbsScaler, LightGBM\", \"run_properties\": \"copy=True\", \"primary_metric\": 0.00893581, \"best_metric\": 0.00893581}, {\"run_id\": \"AutoML_a6ec38e7-9680-4b79-866b-f62133f6cb79_1\", \"run_number\": 3, \"metric\": null, \"status\": \"Completed\", \"run_type\": null, \"training_percent\": \"100\", \"start_time\": \"2020-12-06T19:03:57.124098Z\", \"end_time\": \"2020-12-06T19:04:29.661074Z\", \"created_time\": \"2020-12-06T19:03:56.862627Z\", \"created_time_dt\": \"2020-12-06T19:03:56.862627Z\", \"duration\": \"0:00:32\", \"iteration\": \"1\", \"goal\": \"normalized_mean_absolute_error_min\", \"run_name\": \"MaxAbsScaler, XGBoostRegressor\", \"run_properties\": \"copy=True\", \"primary_metric\": 0.01046657, \"best_metric\": 0.00893581}, {\"run_id\": \"AutoML_a6ec38e7-9680-4b79-866b-f62133f6cb79_2\", \"run_number\": 4, \"metric\": null, \"status\": \"Completed\", \"run_type\": null, \"training_percent\": \"100\", \"start_time\": \"2020-12-06T19:04:31.248888Z\", \"end_time\": \"2020-12-06T19:04:56.716557Z\", \"created_time\": \"2020-12-06T19:04:30.91752Z\", \"created_time_dt\": \"2020-12-06T19:04:30.91752Z\", \"duration\": \"0:00:25\", \"iteration\": \"2\", \"goal\": \"normalized_mean_absolute_error_min\", \"run_name\": \"MaxAbsScaler, DecisionTree\", \"run_properties\": \"copy=True\", \"primary_metric\": 0.01534158, \"best_metric\": 0.00893581}, {\"run_id\": \"AutoML_a6ec38e7-9680-4b79-866b-f62133f6cb79_3\", \"run_number\": 5, \"metric\": null, \"status\": \"Completed\", \"run_type\": null, \"training_percent\": \"100\", \"start_time\": \"2020-12-06T19:04:58.519232Z\", \"end_time\": \"2020-12-06T19:05:23.313504Z\", \"created_time\": \"2020-12-06T19:04:58.412845Z\", \"created_time_dt\": \"2020-12-06T19:04:58.412845Z\", \"duration\": \"0:00:24\", \"iteration\": \"3\", \"goal\": \"normalized_mean_absolute_error_min\", \"run_name\": \"MaxAbsScaler, DecisionTree\", \"run_properties\": \"copy=True\", \"primary_metric\": 0.01495463, \"best_metric\": 0.00893581}, {\"run_id\": \"AutoML_a6ec38e7-9680-4b79-866b-f62133f6cb79_4\", \"run_number\": 6, \"metric\": null, \"status\": \"Completed\", \"run_type\": null, \"training_percent\": \"100\", \"start_time\": \"2020-12-06T19:05:24.933217Z\", \"end_time\": \"2020-12-06T19:05:50.83278Z\", \"created_time\": \"2020-12-06T19:05:24.829189Z\", \"created_time_dt\": \"2020-12-06T19:05:24.829189Z\", \"duration\": \"0:00:26\", \"iteration\": \"4\", \"goal\": \"normalized_mean_absolute_error_min\", \"run_name\": \"MaxAbsScaler, DecisionTree\", \"run_properties\": \"copy=True\", \"primary_metric\": 0.01237958, \"best_metric\": 0.00893581}, {\"run_id\": \"AutoML_a6ec38e7-9680-4b79-866b-f62133f6cb79_5\", \"run_number\": 7, \"metric\": null, \"status\": \"Completed\", \"run_type\": null, \"training_percent\": \"100\", \"start_time\": \"2020-12-06T19:05:52.440404Z\", \"end_time\": \"2020-12-06T19:06:17.038877Z\", \"created_time\": \"2020-12-06T19:05:52.323917Z\", \"created_time_dt\": \"2020-12-06T19:05:52.323917Z\", \"duration\": \"0:00:24\", \"iteration\": \"5\", \"goal\": \"normalized_mean_absolute_error_min\", \"run_name\": \"MaxAbsScaler, DecisionTree\", \"run_properties\": \"copy=True\", \"primary_metric\": 0.01422401, \"best_metric\": 0.00893581}, {\"run_id\": \"AutoML_a6ec38e7-9680-4b79-866b-f62133f6cb79_6\", \"run_number\": 8, \"metric\": null, \"status\": \"Completed\", \"run_type\": null, \"training_percent\": \"100\", \"start_time\": \"2020-12-06T19:06:18.804027Z\", \"end_time\": \"2020-12-06T19:06:43.156677Z\", \"created_time\": \"2020-12-06T19:06:18.653925Z\", \"created_time_dt\": \"2020-12-06T19:06:18.653925Z\", \"duration\": \"0:00:24\", \"iteration\": \"6\", \"goal\": \"normalized_mean_absolute_error_min\", \"run_name\": \"MaxAbsScaler, DecisionTree\", \"run_properties\": \"copy=True\", \"primary_metric\": 0.01664221, \"best_metric\": 0.00893581}, {\"run_id\": \"AutoML_a6ec38e7-9680-4b79-866b-f62133f6cb79_7\", \"run_number\": 9, \"metric\": null, \"status\": \"Completed\", \"run_type\": null, \"training_percent\": \"100\", \"start_time\": \"2020-12-06T19:06:44.635901Z\", \"end_time\": \"2020-12-06T19:07:09.422127Z\", \"created_time\": \"2020-12-06T19:06:44.537242Z\", \"created_time_dt\": \"2020-12-06T19:06:44.537242Z\", \"duration\": \"0:00:24\", \"iteration\": \"7\", \"goal\": \"normalized_mean_absolute_error_min\", \"run_name\": \"MaxAbsScaler, DecisionTree\", \"run_properties\": \"copy=True\", \"primary_metric\": 0.01580933, \"best_metric\": 0.00893581}, {\"run_id\": \"AutoML_a6ec38e7-9680-4b79-866b-f62133f6cb79_8\", \"run_number\": 10, \"metric\": null, \"status\": \"Completed\", \"run_type\": null, \"training_percent\": \"100\", \"start_time\": \"2020-12-06T19:07:10.961871Z\", \"end_time\": \"2020-12-06T19:07:35.621132Z\", \"created_time\": \"2020-12-06T19:07:10.857166Z\", \"created_time_dt\": \"2020-12-06T19:07:10.857166Z\", \"duration\": \"0:00:24\", \"iteration\": \"8\", \"goal\": \"normalized_mean_absolute_error_min\", \"run_name\": \"MaxAbsScaler, DecisionTree\", \"run_properties\": \"copy=True\", \"primary_metric\": 0.01574473, \"best_metric\": 0.00893581}, {\"run_id\": \"AutoML_a6ec38e7-9680-4b79-866b-f62133f6cb79_9\", \"run_number\": 11, \"metric\": null, \"status\": \"Completed\", \"run_type\": null, \"training_percent\": \"100\", \"start_time\": \"2020-12-06T19:07:37.125356Z\", \"end_time\": \"2020-12-06T19:07:59.517162Z\", \"created_time\": \"2020-12-06T19:07:37.007754Z\", \"created_time_dt\": \"2020-12-06T19:07:37.007754Z\", \"duration\": \"0:00:22\", \"iteration\": \"9\", \"goal\": \"normalized_mean_absolute_error_min\", \"run_name\": \"MaxAbsScaler, SGD\", \"run_properties\": \"copy=True\", \"primary_metric\": 0.01950139, \"best_metric\": 0.00893581}, {\"run_id\": \"AutoML_a6ec38e7-9680-4b79-866b-f62133f6cb79_10\", \"run_number\": 12, \"metric\": null, \"status\": \"Completed\", \"run_type\": null, \"training_percent\": \"100\", \"start_time\": \"2020-12-06T19:08:01.261504Z\", \"end_time\": \"2020-12-06T19:08:26.216902Z\", \"created_time\": \"2020-12-06T19:08:01.098236Z\", \"created_time_dt\": \"2020-12-06T19:08:01.098236Z\", \"duration\": \"0:00:25\", \"iteration\": \"10\", \"goal\": \"normalized_mean_absolute_error_min\", \"run_name\": \"MaxAbsScaler, DecisionTree\", \"run_properties\": \"copy=True\", \"primary_metric\": 0.01580613, \"best_metric\": 0.00893581}, {\"run_id\": \"AutoML_a6ec38e7-9680-4b79-866b-f62133f6cb79_11\", \"run_number\": 13, \"metric\": null, \"status\": \"Completed\", \"run_type\": null, \"training_percent\": \"100\", \"start_time\": \"2020-12-06T19:08:28.07599Z\", \"end_time\": \"2020-12-06T19:10:28.938173Z\", \"created_time\": \"2020-12-06T19:08:27.95762Z\", \"created_time_dt\": \"2020-12-06T19:08:27.95762Z\", \"duration\": \"0:02:00\", \"iteration\": \"11\", \"goal\": \"normalized_mean_absolute_error_min\", \"run_name\": \"MaxAbsScaler, ElasticNet\", \"run_properties\": \"copy=True\", \"primary_metric\": 0.0184645, \"best_metric\": 0.00893581}, {\"run_id\": \"AutoML_a6ec38e7-9680-4b79-866b-f62133f6cb79_12\", \"run_number\": 14, \"metric\": null, \"status\": \"Completed\", \"run_type\": null, \"training_percent\": \"100\", \"start_time\": \"2020-12-06T19:10:30.695709Z\", \"end_time\": \"2020-12-06T19:10:54.840739Z\", \"created_time\": \"2020-12-06T19:10:30.57608Z\", \"created_time_dt\": \"2020-12-06T19:10:30.57608Z\", \"duration\": \"0:00:24\", \"iteration\": \"12\", \"goal\": \"normalized_mean_absolute_error_min\", \"run_name\": \"MaxAbsScaler, DecisionTree\", \"run_properties\": \"copy=True\", \"primary_metric\": 0.01893003, \"best_metric\": 0.00893581}, {\"run_id\": \"AutoML_a6ec38e7-9680-4b79-866b-f62133f6cb79_13\", \"run_number\": 15, \"metric\": null, \"status\": \"Completed\", \"run_type\": null, \"training_percent\": \"100\", \"start_time\": \"2020-12-06T19:10:56.441434Z\", \"end_time\": \"2020-12-06T19:12:56.300056Z\", \"created_time\": \"2020-12-06T19:10:56.334164Z\", \"created_time_dt\": \"2020-12-06T19:10:56.334164Z\", \"duration\": \"0:01:59\", \"iteration\": \"13\", \"goal\": \"normalized_mean_absolute_error_min\", \"run_name\": \"StandardScalerWrapper, ElasticNet\", \"run_properties\": \"<azureml.automl.runtime.shared.model_wrappers.StandardScalerWrapper object at 0x7f19f31aceb8\", \"primary_metric\": 0.01576496, \"best_metric\": 0.00893581}, {\"run_id\": \"AutoML_a6ec38e7-9680-4b79-866b-f62133f6cb79_14\", \"run_number\": 16, \"metric\": null, \"status\": \"Completed\", \"run_type\": null, \"training_percent\": \"100\", \"start_time\": \"2020-12-06T19:12:57.908654Z\", \"end_time\": \"2020-12-06T19:13:22.558194Z\", \"created_time\": \"2020-12-06T19:12:57.801642Z\", \"created_time_dt\": \"2020-12-06T19:12:57.801642Z\", \"duration\": \"0:00:24\", \"iteration\": \"14\", \"goal\": \"normalized_mean_absolute_error_min\", \"run_name\": \"MaxAbsScaler, DecisionTree\", \"run_properties\": \"copy=True\", \"primary_metric\": 0.01529271, \"best_metric\": 0.00893581}, {\"run_id\": \"AutoML_a6ec38e7-9680-4b79-866b-f62133f6cb79_15\", \"run_number\": 17, \"metric\": null, \"status\": \"Completed\", \"run_type\": null, \"training_percent\": \"100\", \"start_time\": \"2020-12-06T19:13:24.200108Z\", \"end_time\": \"2020-12-06T19:13:48.434812Z\", \"created_time\": \"2020-12-06T19:13:24.095647Z\", \"created_time_dt\": \"2020-12-06T19:13:24.095647Z\", \"duration\": \"0:00:24\", \"iteration\": \"15\", \"goal\": \"normalized_mean_absolute_error_min\", \"run_name\": \"MaxAbsScaler, DecisionTree\", \"run_properties\": \"copy=True\", \"primary_metric\": 0.01663818, \"best_metric\": 0.00893581}, {\"run_id\": \"AutoML_a6ec38e7-9680-4b79-866b-f62133f6cb79_16\", \"run_number\": 18, \"metric\": null, \"status\": \"Completed\", \"run_type\": null, \"training_percent\": \"100\", \"start_time\": \"2020-12-06T19:13:50.129013Z\", \"end_time\": \"2020-12-06T19:14:15.478867Z\", \"created_time\": \"2020-12-06T19:13:50.022535Z\", \"created_time_dt\": \"2020-12-06T19:13:50.022535Z\", \"duration\": \"0:00:25\", \"iteration\": \"16\", \"goal\": \"normalized_mean_absolute_error_min\", \"run_name\": \"MaxAbsScaler, DecisionTree\", \"run_properties\": \"copy=True\", \"primary_metric\": 0.01374104, \"best_metric\": 0.00893581}, {\"run_id\": \"AutoML_a6ec38e7-9680-4b79-866b-f62133f6cb79_17\", \"run_number\": 19, \"metric\": null, \"status\": \"Completed\", \"run_type\": null, \"training_percent\": \"100\", \"start_time\": \"2020-12-06T19:14:17.185982Z\", \"end_time\": \"2020-12-06T19:14:42.799025Z\", \"created_time\": \"2020-12-06T19:14:17.079492Z\", \"created_time_dt\": \"2020-12-06T19:14:17.079492Z\", \"duration\": \"0:00:25\", \"iteration\": \"17\", \"goal\": \"normalized_mean_absolute_error_min\", \"run_name\": \"MaxAbsScaler, DecisionTree\", \"run_properties\": \"copy=True\", \"primary_metric\": 0.01428116, \"best_metric\": 0.00893581}, {\"run_id\": \"AutoML_a6ec38e7-9680-4b79-866b-f62133f6cb79_18\", \"run_number\": 20, \"metric\": null, \"status\": \"Completed\", \"run_type\": null, \"training_percent\": \"100\", \"start_time\": \"2020-12-06T19:14:44.477129Z\", \"end_time\": \"2020-12-06T19:15:10.096254Z\", \"created_time\": \"2020-12-06T19:14:44.383305Z\", \"created_time_dt\": \"2020-12-06T19:14:44.383305Z\", \"duration\": \"0:00:25\", \"iteration\": \"18\", \"goal\": \"normalized_mean_absolute_error_min\", \"run_name\": \"MaxAbsScaler, SGD\", \"run_properties\": \"copy=True\", \"primary_metric\": 0.06892922, \"best_metric\": 0.00893581}, {\"run_id\": \"AutoML_a6ec38e7-9680-4b79-866b-f62133f6cb79_19\", \"run_number\": 21, \"metric\": null, \"status\": \"Completed\", \"run_type\": null, \"training_percent\": \"100\", \"start_time\": \"2020-12-06T19:15:12.263858Z\", \"end_time\": \"2020-12-06T19:15:36.84096Z\", \"created_time\": \"2020-12-06T19:15:12.141697Z\", \"created_time_dt\": \"2020-12-06T19:15:12.141697Z\", \"duration\": \"0:00:24\", \"iteration\": \"19\", \"goal\": \"normalized_mean_absolute_error_min\", \"run_name\": \"MaxAbsScaler, DecisionTree\", \"run_properties\": \"copy=True\", \"primary_metric\": 0.01306519, \"best_metric\": 0.00893581}, {\"run_id\": \"AutoML_a6ec38e7-9680-4b79-866b-f62133f6cb79_20\", \"run_number\": 22, \"metric\": null, \"status\": \"Completed\", \"run_type\": null, \"training_percent\": \"100\", \"start_time\": \"2020-12-06T19:15:38.518892Z\", \"end_time\": \"2020-12-06T19:16:03.98777Z\", \"created_time\": \"2020-12-06T19:15:38.39723Z\", \"created_time_dt\": \"2020-12-06T19:15:38.39723Z\", \"duration\": \"0:00:25\", \"iteration\": \"20\", \"goal\": \"normalized_mean_absolute_error_min\", \"run_name\": \"MaxAbsScaler, DecisionTree\", \"run_properties\": \"copy=True\", \"primary_metric\": 0.01496408, \"best_metric\": 0.00893581}, {\"run_id\": \"AutoML_a6ec38e7-9680-4b79-866b-f62133f6cb79_21\", \"run_number\": 23, \"metric\": null, \"status\": \"Completed\", \"run_type\": null, \"training_percent\": \"100\", \"start_time\": \"2020-12-06T19:16:05.533515Z\", \"end_time\": \"2020-12-06T19:16:31.245996Z\", \"created_time\": \"2020-12-06T19:16:05.436205Z\", \"created_time_dt\": \"2020-12-06T19:16:05.436205Z\", \"duration\": \"0:00:25\", \"iteration\": \"21\", \"goal\": \"normalized_mean_absolute_error_min\", \"run_name\": \"MaxAbsScaler, DecisionTree\", \"run_properties\": \"copy=True\", \"primary_metric\": 0.01540416, \"best_metric\": 0.00893581}, {\"run_id\": \"AutoML_a6ec38e7-9680-4b79-866b-f62133f6cb79_22\", \"run_number\": 24, \"metric\": null, \"status\": \"Completed\", \"run_type\": null, \"training_percent\": \"100\", \"start_time\": \"2020-12-06T19:16:32.588145Z\", \"end_time\": \"2020-12-06T19:17:18.322616Z\", \"created_time\": \"2020-12-06T19:16:32.491315Z\", \"created_time_dt\": \"2020-12-06T19:16:32.491315Z\", \"duration\": \"0:00:45\", \"iteration\": \"22\", \"goal\": \"normalized_mean_absolute_error_min\", \"run_name\": \"MaxAbsScaler, RandomForest\", \"run_properties\": \"copy=True\", \"primary_metric\": 0.01318703, \"best_metric\": 0.00893581}, {\"run_id\": \"AutoML_a6ec38e7-9680-4b79-866b-f62133f6cb79_23\", \"run_number\": 25, \"metric\": null, \"status\": \"Completed\", \"run_type\": null, \"training_percent\": \"100\", \"start_time\": \"2020-12-06T19:17:19.704978Z\", \"end_time\": \"2020-12-06T19:18:04.425664Z\", \"created_time\": \"2020-12-06T19:17:19.599957Z\", \"created_time_dt\": \"2020-12-06T19:17:19.599957Z\", \"duration\": \"0:00:44\", \"iteration\": \"23\", \"goal\": \"normalized_mean_absolute_error_min\", \"run_name\": \"MaxAbsScaler, RandomForest\", \"run_properties\": \"copy=True\", \"primary_metric\": 0.01304808, \"best_metric\": 0.00893581}, {\"run_id\": \"AutoML_a6ec38e7-9680-4b79-866b-f62133f6cb79_24\", \"run_number\": 26, \"metric\": null, \"status\": \"Completed\", \"run_type\": null, \"training_percent\": \"100\", \"start_time\": \"2020-12-06T19:18:05.776274Z\", \"end_time\": \"2020-12-06T19:18:50.830772Z\", \"created_time\": \"2020-12-06T19:18:05.683557Z\", \"created_time_dt\": \"2020-12-06T19:18:05.683557Z\", \"duration\": \"0:00:45\", \"iteration\": \"24\", \"goal\": \"normalized_mean_absolute_error_min\", \"run_name\": \"MaxAbsScaler, RandomForest\", \"run_properties\": \"copy=True\", \"primary_metric\": 0.01255048, \"best_metric\": 0.00893581}, {\"run_id\": \"AutoML_a6ec38e7-9680-4b79-866b-f62133f6cb79_25\", \"run_number\": 27, \"metric\": null, \"status\": \"Completed\", \"run_type\": null, \"training_percent\": \"100\", \"start_time\": \"2020-12-06T19:18:53.453314Z\", \"end_time\": \"2020-12-06T19:19:19.139525Z\", \"created_time\": \"2020-12-06T19:18:53.342622Z\", \"created_time_dt\": \"2020-12-06T19:18:53.342622Z\", \"duration\": \"0:00:25\", \"iteration\": \"25\", \"goal\": \"normalized_mean_absolute_error_min\", \"run_name\": \"MaxAbsScaler, LightGBM\", \"run_properties\": \"copy=True\", \"primary_metric\": 0.01764866, \"best_metric\": 0.00893581}, {\"run_id\": \"AutoML_a6ec38e7-9680-4b79-866b-f62133f6cb79_26\", \"run_number\": 28, \"metric\": null, \"status\": \"Completed\", \"run_type\": null, \"training_percent\": \"100\", \"start_time\": \"2020-12-06T19:19:20.536173Z\", \"end_time\": \"2020-12-06T19:19:49.304992Z\", \"created_time\": \"2020-12-06T19:19:20.443797Z\", \"created_time_dt\": \"2020-12-06T19:19:20.443797Z\", \"duration\": \"0:00:28\", \"iteration\": \"26\", \"goal\": \"normalized_mean_absolute_error_min\", \"run_name\": \"MaxAbsScaler, ExtremeRandomTrees\", \"run_properties\": \"copy=True\", \"primary_metric\": 0.01444758, \"best_metric\": 0.00893581}, {\"run_id\": \"AutoML_a6ec38e7-9680-4b79-866b-f62133f6cb79_27\", \"run_number\": 29, \"metric\": null, \"status\": \"Completed\", \"run_type\": null, \"training_percent\": \"100\", \"start_time\": \"2020-12-06T19:19:50.791371Z\", \"end_time\": \"2020-12-06T19:20:15.673208Z\", \"created_time\": \"2020-12-06T19:19:50.683718Z\", \"created_time_dt\": \"2020-12-06T19:19:50.683718Z\", \"duration\": \"0:00:24\", \"iteration\": \"27\", \"goal\": \"normalized_mean_absolute_error_min\", \"run_name\": \"MaxAbsScaler, DecisionTree\", \"run_properties\": \"copy=True\", \"primary_metric\": 0.01330745, \"best_metric\": 0.00893581}, {\"run_id\": \"AutoML_a6ec38e7-9680-4b79-866b-f62133f6cb79_28\", \"run_number\": 30, \"metric\": null, \"status\": \"Completed\", \"run_type\": null, \"training_percent\": \"100\", \"start_time\": \"2020-12-06T19:20:17.028092Z\", \"end_time\": \"2020-12-06T19:20:48.634898Z\", \"created_time\": \"2020-12-06T19:20:16.920428Z\", \"created_time_dt\": \"2020-12-06T19:20:16.920428Z\", \"duration\": \"0:00:31\", \"iteration\": \"28\", \"goal\": \"normalized_mean_absolute_error_min\", \"run_name\": \"MaxAbsScaler, RandomForest\", \"run_properties\": \"copy=True\", \"primary_metric\": 0.01417346, \"best_metric\": 0.00893581}, {\"run_id\": \"AutoML_a6ec38e7-9680-4b79-866b-f62133f6cb79_29\", \"run_number\": 31, \"metric\": null, \"status\": \"Failed\", \"run_type\": null, \"training_percent\": \"100\", \"start_time\": \"2020-12-06T19:20:50.126446Z\", \"end_time\": \"2020-12-06T19:21:51.7155Z\", \"created_time\": \"2020-12-06T19:20:50.008943Z\", \"created_time_dt\": \"2020-12-06T19:20:50.008943Z\", \"duration\": \"0:01:01\", \"iteration\": \"29\", \"goal\": \"normalized_mean_absolute_error_min\", \"run_name\": \"MaxAbsScaler, ExtremeRandomTrees\", \"run_properties\": \"\"}, {\"run_id\": \"AutoML_a6ec38e7-9680-4b79-866b-f62133f6cb79_30\", \"run_number\": 32, \"metric\": null, \"status\": \"Completed\", \"run_type\": null, \"training_percent\": \"100\", \"start_time\": \"2020-12-06T19:21:52.091069Z\", \"end_time\": \"2020-12-06T19:22:40.995807Z\", \"created_time\": \"2020-12-06T19:21:51.996744Z\", \"created_time_dt\": \"2020-12-06T19:21:51.996744Z\", \"duration\": \"0:00:48\", \"iteration\": \"30\", \"goal\": \"normalized_mean_absolute_error_min\", \"run_name\": \"VotingEnsemble\", \"run_properties\": \"estimators=[('0',\\n                                          Pipeline(memory=None,\\n                                                   steps=[('maxabsscaler',\\n                                                           MaxAbsScaler(copy=True\", \"primary_metric\": 0.00893581, \"best_metric\": 0.00893581}, {\"run_id\": \"AutoML_a6ec38e7-9680-4b79-866b-f62133f6cb79_31\", \"run_number\": 33, \"metric\": null, \"status\": \"Completed\", \"run_type\": null, \"training_percent\": \"100\", \"start_time\": \"2020-12-06T19:22:41.418781Z\", \"end_time\": \"2020-12-06T19:23:28.91479Z\", \"created_time\": \"2020-12-06T19:22:41.309252Z\", \"created_time_dt\": \"2020-12-06T19:22:41.309252Z\", \"duration\": \"0:00:47\", \"iteration\": \"31\", \"goal\": \"normalized_mean_absolute_error_min\", \"run_name\": \"StackEnsemble\", \"run_properties\": \"base_learners=[('0',\\n                                       Pipeline(memory=None,\\n                                                steps=[('maxabsscaler',\\n                                                        MaxAbsScaler(copy=True\", \"primary_metric\": 0.00895944, \"best_metric\": 0.00893581}], \"children_metrics\": {\"categories\": [0], \"series\": {\"spearman_correlation\": [{\"categories\": [\"0\", \"1\", \"2\", \"3\", \"4\", \"5\", \"6\", \"7\", \"8\", \"9\", \"10\", \"11\", \"12\", \"13\", \"14\", \"15\", \"16\", \"17\", \"18\", \"19\", \"20\", \"21\", \"22\", \"23\", \"24\", \"25\", \"26\", \"27\", \"28\", \"30\", \"31\"], \"mode\": \"markers\", \"name\": \"spearman_correlation\", \"stepped\": false, \"type\": \"scatter\", \"data\": [0.9457412429331027, 0.9269457304175617, 0.8715026296826552, 0.8794107722087492, 0.9114649043581415, 0.8844567871694045, 0.8499617094923421, 0.858822963229035, 0.8577715429212752, 0.7207796344460202, 0.8643137224901547, 0.7308371742333009, 0.8113602808432393, 0.8505419073281579, 0.8743811288116261, 0.8533000449565655, 0.8922641249714085, 0.8845980307961863, -0.09259805383150195, 0.8995300677930549, 0.8730790415463179, 0.8693603963024646, 0.9060749197451372, 0.905786621451895, 0.9156578018410173, 0.8381714454780381, 0.8967069198879946, 0.8970958472149524, 0.8953942847962282, 0.9457412429331027, 0.9457412429331027]}, {\"categories\": [\"0\", \"1\", \"2\", \"3\", \"4\", \"5\", \"6\", \"7\", \"8\", \"9\", \"10\", \"11\", \"12\", \"13\", \"14\", \"15\", \"16\", \"17\", \"18\", \"19\", \"20\", \"21\", \"22\", \"23\", \"24\", \"25\", \"26\", \"27\", \"28\", \"30\", \"31\"], \"mode\": \"lines\", \"name\": \"spearman_correlation_max\", \"stepped\": true, \"type\": \"scatter\", \"data\": [0.9457412429331027, 0.9457412429331027, 0.9457412429331027, 0.9457412429331027, 0.9457412429331027, 0.9457412429331027, 0.9457412429331027, 0.9457412429331027, 0.9457412429331027, 0.9457412429331027, 0.9457412429331027, 0.9457412429331027, 0.9457412429331027, 0.9457412429331027, 0.9457412429331027, 0.9457412429331027, 0.9457412429331027, 0.9457412429331027, 0.9457412429331027, 0.9457412429331027, 0.9457412429331027, 0.9457412429331027, 0.9457412429331027, 0.9457412429331027, 0.9457412429331027, 0.9457412429331027, 0.9457412429331027, 0.9457412429331027, 0.9457412429331027, 0.9457412429331027, 0.9457412429331027]}], \"explained_variance\": [{\"categories\": [\"0\", \"1\", \"2\", \"3\", \"4\", \"5\", \"6\", \"7\", \"8\", \"9\", \"10\", \"11\", \"12\", \"13\", \"14\", \"15\", \"16\", \"17\", \"18\", \"19\", \"20\", \"21\", \"22\", \"23\", \"24\", \"25\", \"26\", \"27\", \"28\", \"30\", \"31\"], \"mode\": \"markers\", \"name\": \"explained_variance\", \"stepped\": false, \"type\": \"scatter\", \"data\": [0.8775901457749669, 0.8505738959581596, 0.6202670041941436, 0.6355578386528318, 0.7412154649722218, 0.6694357514080516, 0.5696489461867627, 0.6207418279853647, 0.6181260457085072, 0.6393775926621315, 0.6038074912400402, 0.6470937679757125, 0.4696943964219244, 0.7183216540823439, 0.624800305105255, 0.5741023739821676, 0.6862091540861904, 0.6651250717194579, -0.000967330619889184, 0.7185615560793386, 0.6511096370304623, 0.6384892231149402, 0.6968165200979103, 0.70619314108215, 0.7294025200395277, 0.5553701822480069, 0.6507781607934907, 0.7056617265037131, 0.660168616287169, 0.8775901457749669, 0.877250237825374]}, {\"categories\": [\"0\", \"1\", \"2\", \"3\", \"4\", \"5\", \"6\", \"7\", \"8\", \"9\", \"10\", \"11\", \"12\", \"13\", \"14\", \"15\", \"16\", \"17\", \"18\", \"19\", \"20\", \"21\", \"22\", \"23\", \"24\", \"25\", \"26\", \"27\", \"28\", \"30\", \"31\"], \"mode\": \"lines\", \"name\": \"explained_variance_max\", \"stepped\": true, \"type\": \"scatter\", \"data\": [0.8775901457749669, 0.8775901457749669, 0.8775901457749669, 0.8775901457749669, 0.8775901457749669, 0.8775901457749669, 0.8775901457749669, 0.8775901457749669, 0.8775901457749669, 0.8775901457749669, 0.8775901457749669, 0.8775901457749669, 0.8775901457749669, 0.8775901457749669, 0.8775901457749669, 0.8775901457749669, 0.8775901457749669, 0.8775901457749669, 0.8775901457749669, 0.8775901457749669, 0.8775901457749669, 0.8775901457749669, 0.8775901457749669, 0.8775901457749669, 0.8775901457749669, 0.8775901457749669, 0.8775901457749669, 0.8775901457749669, 0.8775901457749669, 0.8775901457749669, 0.8775901457749669]}], \"median_absolute_error\": [{\"categories\": [\"0\", \"1\", \"2\", \"3\", \"4\", \"5\", \"6\", \"7\", \"8\", \"9\", \"10\", \"11\", \"12\", \"13\", \"14\", \"15\", \"16\", \"17\", \"18\", \"19\", \"20\", \"21\", \"22\", \"23\", \"24\", \"25\", \"26\", \"27\", \"28\", \"30\", \"31\"], \"mode\": \"markers\", \"name\": \"median_absolute_error\", \"stepped\": false, \"type\": \"scatter\", \"data\": [40295.34526143167, 48412.01875, 64376.28397918491, 62536.691136797795, 51535.42806781116, 60029.57311030935, 72576.52609796825, 68311.50430985293, 67821.80580001925, 110409.98400695801, 67144.05305240661, 102860.58272867787, 83944.84232840355, 83672.91442030175, 65404.32381278825, 72304.0173759018, 58162.19976730221, 60172.62908403158, 437340.6233993551, 54379.51786570598, 63837.65091788913, 66690.14736614746, 56823.1144322654, 55545.94207286448, 55833.410440705855, 89078.52068039819, 65434.0194256204, 56134.095533737345, 62073.05823175535, 40295.34526143167, 40354.67591723116]}, {\"categories\": [\"0\", \"1\", \"2\", \"3\", \"4\", \"5\", \"6\", \"7\", \"8\", \"9\", \"10\", \"11\", \"12\", \"13\", \"14\", \"15\", \"16\", \"17\", \"18\", \"19\", \"20\", \"21\", \"22\", \"23\", \"24\", \"25\", \"26\", \"27\", \"28\", \"30\", \"31\"], \"mode\": \"lines\", \"name\": \"median_absolute_error_min\", \"stepped\": true, \"type\": \"scatter\", \"data\": [40295.34526143167, 40295.34526143167, 40295.34526143167, 40295.34526143167, 40295.34526143167, 40295.34526143167, 40295.34526143167, 40295.34526143167, 40295.34526143167, 40295.34526143167, 40295.34526143167, 40295.34526143167, 40295.34526143167, 40295.34526143167, 40295.34526143167, 40295.34526143167, 40295.34526143167, 40295.34526143167, 40295.34526143167, 40295.34526143167, 40295.34526143167, 40295.34526143167, 40295.34526143167, 40295.34526143167, 40295.34526143167, 40295.34526143167, 40295.34526143167, 40295.34526143167, 40295.34526143167, 40295.34526143167, 40295.34526143167]}], \"root_mean_squared_log_error\": [{\"categories\": [\"0\", \"1\", \"2\", \"3\", \"4\", \"5\", \"6\", \"7\", \"8\", \"9\", \"10\", \"11\", \"12\", \"13\", \"14\", \"15\", \"16\", \"17\", \"18\", \"19\", \"20\", \"21\", \"22\", \"23\", \"24\", \"25\", \"26\", \"27\", \"28\", \"30\", \"31\"], \"mode\": \"markers\", \"name\": \"root_mean_squared_log_error\", \"stepped\": false, \"type\": \"scatter\", \"data\": [0.173884968254788, 0.19948045687182708, 0.2694721548087882, 0.2615482948534388, 0.22586564348320146, 0.25459085879476173, 0.2892934635380593, 0.2762089617388749, 0.27789765967925173, 0.3627456021367813, 0.27609883653730916, 0.3392850197018603, 0.3223501439247426, 0.3090919208553904, 0.26667091384204866, 0.28621462938079006, 0.2465028070601348, 0.25447776705149294, 3.6796160967487346, 0.2378063149481684, 0.2636132058329291, 0.2689585712099516, 0.23732846536550115, 0.23524920797200916, 0.2288047438864893, 0.31526961664825304, 0.25381598183325565, 0.2408067758743186, 0.25166690715070217, 0.173884968254788, 0.17368754613030282]}, {\"categories\": [\"0\", \"1\", \"2\", \"3\", \"4\", \"5\", \"6\", \"7\", \"8\", \"9\", \"10\", \"11\", \"12\", \"13\", \"14\", \"15\", \"16\", \"17\", \"18\", \"19\", \"20\", \"21\", \"22\", \"23\", \"24\", \"25\", \"26\", \"27\", \"28\", \"30\", \"31\"], \"mode\": \"lines\", \"name\": \"root_mean_squared_log_error_min\", \"stepped\": true, \"type\": \"scatter\", \"data\": [0.173884968254788, 0.173884968254788, 0.173884968254788, 0.173884968254788, 0.173884968254788, 0.173884968254788, 0.173884968254788, 0.173884968254788, 0.173884968254788, 0.173884968254788, 0.173884968254788, 0.173884968254788, 0.173884968254788, 0.173884968254788, 0.173884968254788, 0.173884968254788, 0.173884968254788, 0.173884968254788, 0.173884968254788, 0.173884968254788, 0.173884968254788, 0.173884968254788, 0.173884968254788, 0.173884968254788, 0.173884968254788, 0.173884968254788, 0.173884968254788, 0.173884968254788, 0.173884968254788, 0.173884968254788, 0.17368754613030282]}], \"root_mean_squared_error\": [{\"categories\": [\"0\", \"1\", \"2\", \"3\", \"4\", \"5\", \"6\", \"7\", \"8\", \"9\", \"10\", \"11\", \"12\", \"13\", \"14\", \"15\", \"16\", \"17\", \"18\", \"19\", \"20\", \"21\", \"22\", \"23\", \"24\", \"25\", \"26\", \"27\", \"28\", \"30\", \"31\"], \"mode\": \"markers\", \"name\": \"root_mean_squared_error\", \"stepped\": false, \"type\": \"scatter\", \"data\": [126356.9692472599, 139586.76173153412, 222405.61247518222, 217875.95926684194, 183688.03259037825, 207651.17855597002, 236827.920941251, 222138.4982726089, 222892.56888899184, 221232.28507801084, 227297.91850498613, 214562.01346932515, 262839.25359236804, 191646.29608208168, 221282.6897592884, 235788.0981993901, 202245.82883751276, 208973.81887707676, 637768.513721692, 191251.97544967956, 213374.2163200578, 217053.2672778257, 198896.031910307, 195828.62644642335, 187947.5413837494, 240829.21990273852, 213492.75180053146, 195970.57060624886, 210536.95781445332, 126356.9692472599, 126526.45188169682]}, {\"categories\": [\"0\", \"1\", \"2\", \"3\", \"4\", \"5\", \"6\", \"7\", \"8\", \"9\", \"10\", \"11\", \"12\", \"13\", \"14\", \"15\", \"16\", \"17\", \"18\", \"19\", \"20\", \"21\", \"22\", \"23\", \"24\", \"25\", \"26\", \"27\", \"28\", \"30\", \"31\"], \"mode\": \"lines\", \"name\": \"root_mean_squared_error_min\", \"stepped\": true, \"type\": \"scatter\", \"data\": [126356.9692472599, 126356.9692472599, 126356.9692472599, 126356.9692472599, 126356.9692472599, 126356.9692472599, 126356.9692472599, 126356.9692472599, 126356.9692472599, 126356.9692472599, 126356.9692472599, 126356.9692472599, 126356.9692472599, 126356.9692472599, 126356.9692472599, 126356.9692472599, 126356.9692472599, 126356.9692472599, 126356.9692472599, 126356.9692472599, 126356.9692472599, 126356.9692472599, 126356.9692472599, 126356.9692472599, 126356.9692472599, 126356.9692472599, 126356.9692472599, 126356.9692472599, 126356.9692472599, 126356.9692472599, 126356.9692472599]}], \"r2_score\": [{\"categories\": [\"0\", \"1\", \"2\", \"3\", \"4\", \"5\", \"6\", \"7\", \"8\", \"9\", \"10\", \"11\", \"12\", \"13\", \"14\", \"15\", \"16\", \"17\", \"18\", \"19\", \"20\", \"21\", \"22\", \"23\", \"24\", \"25\", \"26\", \"27\", \"28\", \"30\", \"31\"], \"mode\": \"markers\", \"name\": \"r2_score\", \"stepped\": false, \"type\": \"scatter\", \"data\": [0.8775462246277781, 0.8504974784147198, 0.6200378007454999, 0.6354600982675767, 0.7411053358608466, 0.6693351248324033, 0.569469256893974, 0.6205320514977446, 0.6179489765499365, 0.6243130796505236, 0.603604485551841, 0.6468462799663708, 0.46941014132866404, 0.7182242620469704, 0.6246955410894006, 0.5739046013147752, 0.6861489923569196, 0.6649625579843592, -1.0, 0.7183867554181514, 0.6509361852727669, 0.6383434516110039, 0.6966179848025745, 0.7059966207842401, 0.7292488919946731, 0.5552138428014933, 0.6506041147183999, 0.7054785162112414, 0.6599561387967574, 0.8775462246277781, 0.8771923717219833]}, {\"categories\": [\"0\", \"1\", \"2\", \"3\", \"4\", \"5\", \"6\", \"7\", \"8\", \"9\", \"10\", \"11\", \"12\", \"13\", \"14\", \"15\", \"16\", \"17\", \"18\", \"19\", \"20\", \"21\", \"22\", \"23\", \"24\", \"25\", \"26\", \"27\", \"28\", \"30\", \"31\"], \"mode\": \"lines\", \"name\": \"r2_score_max\", \"stepped\": true, \"type\": \"scatter\", \"data\": [0.8775462246277781, 0.8775462246277781, 0.8775462246277781, 0.8775462246277781, 0.8775462246277781, 0.8775462246277781, 0.8775462246277781, 0.8775462246277781, 0.8775462246277781, 0.8775462246277781, 0.8775462246277781, 0.8775462246277781, 0.8775462246277781, 0.8775462246277781, 0.8775462246277781, 0.8775462246277781, 0.8775462246277781, 0.8775462246277781, 0.8775462246277781, 0.8775462246277781, 0.8775462246277781, 0.8775462246277781, 0.8775462246277781, 0.8775462246277781, 0.8775462246277781, 0.8775462246277781, 0.8775462246277781, 0.8775462246277781, 0.8775462246277781, 0.8775462246277781, 0.8775462246277781]}], \"mean_absolute_error\": [{\"categories\": [\"0\", \"1\", \"2\", \"3\", \"4\", \"5\", \"6\", \"7\", \"8\", \"9\", \"10\", \"11\", \"12\", \"13\", \"14\", \"15\", \"16\", \"17\", \"18\", \"19\", \"20\", \"21\", \"22\", \"23\", \"24\", \"25\", \"26\", \"27\", \"28\", \"30\", \"31\"], \"mode\": \"markers\", \"name\": \"mean_absolute_error\", \"stepped\": false, \"type\": \"scatter\", \"data\": [68135.57557784018, 79807.58687644592, 116979.57406998127, 114029.06823136672, 94394.31126835929, 108458.10392724563, 126896.88742521305, 120546.1034898895, 120053.58927231166, 148698.06651089012, 120521.76000407679, 140791.82835874739, 144341.46222803614, 120207.8521236808, 116606.89249022577, 126866.11715649588, 104775.43262930223, 108893.86747417264, 525585.3176391262, 99622.06712731723, 114101.137912717, 117456.72511803443, 100551.07496166378, 99491.6355669016, 95697.42919398422, 134571.0289368274, 110162.76049031736, 101469.34298250292, 108072.62646539425, 68135.57557784018, 68315.7542962398]}, {\"categories\": [\"0\", \"1\", \"2\", \"3\", \"4\", \"5\", \"6\", \"7\", \"8\", \"9\", \"10\", \"11\", \"12\", \"13\", \"14\", \"15\", \"16\", \"17\", \"18\", \"19\", \"20\", \"21\", \"22\", \"23\", \"24\", \"25\", \"26\", \"27\", \"28\", \"30\", \"31\"], \"mode\": \"lines\", \"name\": \"mean_absolute_error_min\", \"stepped\": true, \"type\": \"scatter\", \"data\": [68135.57557784018, 68135.57557784018, 68135.57557784018, 68135.57557784018, 68135.57557784018, 68135.57557784018, 68135.57557784018, 68135.57557784018, 68135.57557784018, 68135.57557784018, 68135.57557784018, 68135.57557784018, 68135.57557784018, 68135.57557784018, 68135.57557784018, 68135.57557784018, 68135.57557784018, 68135.57557784018, 68135.57557784018, 68135.57557784018, 68135.57557784018, 68135.57557784018, 68135.57557784018, 68135.57557784018, 68135.57557784018, 68135.57557784018, 68135.57557784018, 68135.57557784018, 68135.57557784018, 68135.57557784018, 68135.57557784018]}], \"normalized_root_mean_squared_log_error\": [{\"categories\": [\"0\", \"1\", \"2\", \"3\", \"4\", \"5\", \"6\", \"7\", \"8\", \"9\", \"10\", \"11\", \"12\", \"13\", \"14\", \"15\", \"16\", \"17\", \"18\", \"19\", \"20\", \"21\", \"22\", \"23\", \"24\", \"25\", \"26\", \"27\", \"28\", \"30\", \"31\"], \"mode\": \"markers\", \"name\": \"normalized_root_mean_squared_log_error\", \"stepped\": false, \"type\": \"scatter\", \"data\": [0.037544193777620874, 0.04307061733289299, 0.05818280268476063, 0.05647193062597254, 0.048767547717034176, 0.05496972298718668, 0.062462500138351806, 0.059637373412547656, 0.06000198688858129, 0.0783218429706219, 0.0596135958431069, 0.07325637548419776, 0.06959989922775439, 0.06673726365287641, 0.05757797562737532, 0.06179773683322069, 0.05322339962953272, 0.05494530489995035, 0.7944805186447362, 0.05134570549464462, 0.05691777375275695, 0.05807191281113176, 0.05124253109430239, 0.050793590376319066, 0.04940214055263361, 0.06807111447548793, 0.054802416226351736, 0.05199354692432186, 0.054338400980329195, 0.037544193777620874, 0.03750156758300467]}, {\"categories\": [\"0\", \"1\", \"2\", \"3\", \"4\", \"5\", \"6\", \"7\", \"8\", \"9\", \"10\", \"11\", \"12\", \"13\", \"14\", \"15\", \"16\", \"17\", \"18\", \"19\", \"20\", \"21\", \"22\", \"23\", \"24\", \"25\", \"26\", \"27\", \"28\", \"30\", \"31\"], \"mode\": \"lines\", \"name\": \"normalized_root_mean_squared_log_error_min\", \"stepped\": true, \"type\": \"scatter\", \"data\": [0.037544193777620874, 0.037544193777620874, 0.037544193777620874, 0.037544193777620874, 0.037544193777620874, 0.037544193777620874, 0.037544193777620874, 0.037544193777620874, 0.037544193777620874, 0.037544193777620874, 0.037544193777620874, 0.037544193777620874, 0.037544193777620874, 0.037544193777620874, 0.037544193777620874, 0.037544193777620874, 0.037544193777620874, 0.037544193777620874, 0.037544193777620874, 0.037544193777620874, 0.037544193777620874, 0.037544193777620874, 0.037544193777620874, 0.037544193777620874, 0.037544193777620874, 0.037544193777620874, 0.037544193777620874, 0.037544193777620874, 0.037544193777620874, 0.037544193777620874, 0.03750156758300467]}], \"normalized_root_mean_squared_error\": [{\"categories\": [\"0\", \"1\", \"2\", \"3\", \"4\", \"5\", \"6\", \"7\", \"8\", \"9\", \"10\", \"11\", \"12\", \"13\", \"14\", \"15\", \"16\", \"17\", \"18\", \"19\", \"20\", \"21\", \"22\", \"23\", \"24\", \"25\", \"26\", \"27\", \"28\", \"30\", \"31\"], \"mode\": \"markers\", \"name\": \"normalized_root_mean_squared_error\", \"stepped\": false, \"type\": \"scatter\", \"data\": [0.016571405802919333, 0.018306460554955294, 0.02916794917707307, 0.028573896297290746, 0.02409023378234469, 0.02723294144996328, 0.03105939946770505, 0.02913291780624379, 0.0292318123133104, 0.02901407017416535, 0.029809563082621126, 0.028139280454993466, 0.03447072178260564, 0.0251339404697812, 0.02902068062416897, 0.03092302927205116, 0.026524043126231182, 0.027406402475682202, 0.08364177229136945, 0.025082226288482563, 0.027983503779679713, 0.028466002265944357, 0.02608472549643371, 0.02568244281264569, 0.024648857886393365, 0.0315841599872444, 0.027999049416463147, 0.025701058440163786, 0.02761140430353486, 0.016571405802919333, 0.016593633033665157]}, {\"categories\": [\"0\", \"1\", \"2\", \"3\", \"4\", \"5\", \"6\", \"7\", \"8\", \"9\", \"10\", \"11\", \"12\", \"13\", \"14\", \"15\", \"16\", \"17\", \"18\", \"19\", \"20\", \"21\", \"22\", \"23\", \"24\", \"25\", \"26\", \"27\", \"28\", \"30\", \"31\"], \"mode\": \"lines\", \"name\": \"normalized_root_mean_squared_error_min\", \"stepped\": true, \"type\": \"scatter\", \"data\": [0.016571405802919333, 0.016571405802919333, 0.016571405802919333, 0.016571405802919333, 0.016571405802919333, 0.016571405802919333, 0.016571405802919333, 0.016571405802919333, 0.016571405802919333, 0.016571405802919333, 0.016571405802919333, 0.016571405802919333, 0.016571405802919333, 0.016571405802919333, 0.016571405802919333, 0.016571405802919333, 0.016571405802919333, 0.016571405802919333, 0.016571405802919333, 0.016571405802919333, 0.016571405802919333, 0.016571405802919333, 0.016571405802919333, 0.016571405802919333, 0.016571405802919333, 0.016571405802919333, 0.016571405802919333, 0.016571405802919333, 0.016571405802919333, 0.016571405802919333, 0.016571405802919333]}], \"normalized_median_absolute_error\": [{\"categories\": [\"0\", \"1\", \"2\", \"3\", \"4\", \"5\", \"6\", \"7\", \"8\", \"9\", \"10\", \"11\", \"12\", \"13\", \"14\", \"15\", \"16\", \"17\", \"18\", \"19\", \"20\", \"21\", \"22\", \"23\", \"24\", \"25\", \"26\", \"27\", \"28\", \"30\", \"31\"], \"mode\": \"markers\", \"name\": \"normalized_median_absolute_error\", \"stepped\": false, \"type\": \"scatter\", \"data\": [0.005284635444122185, 0.006349117213114754, 0.00844279134153245, 0.008201533263842332, 0.006758744664630971, 0.007872730899712702, 0.009518232930881084, 0.008958885811128255, 0.008894663055740229, 0.014479997902551871, 0.008805777449495952, 0.013489912489006934, 0.011009159649626695, 0.010973496973154329, 0.008577616237742721, 0.009482494082085485, 0.007627829477678978, 0.007891492338889387, 0.05735614733106296, 0.00713174004796144, 0.008372150940051034, 0.008746248834904585, 0.0074522117288216925, 0.007284713714474031, 0.007322414484026998, 0.011682428941691567, 0.00858151074434366, 0.007361848594588503, 0.00814072894842693, 0.005284635444122185, 0.0052924165137352335]}, {\"categories\": [\"0\", \"1\", \"2\", \"3\", \"4\", \"5\", \"6\", \"7\", \"8\", \"9\", \"10\", \"11\", \"12\", \"13\", \"14\", \"15\", \"16\", \"17\", \"18\", \"19\", \"20\", \"21\", \"22\", \"23\", \"24\", \"25\", \"26\", \"27\", \"28\", \"30\", \"31\"], \"mode\": \"lines\", \"name\": \"normalized_median_absolute_error_min\", \"stepped\": true, \"type\": \"scatter\", \"data\": [0.005284635444122185, 0.005284635444122185, 0.005284635444122185, 0.005284635444122185, 0.005284635444122185, 0.005284635444122185, 0.005284635444122185, 0.005284635444122185, 0.005284635444122185, 0.005284635444122185, 0.005284635444122185, 0.005284635444122185, 0.005284635444122185, 0.005284635444122185, 0.005284635444122185, 0.005284635444122185, 0.005284635444122185, 0.005284635444122185, 0.005284635444122185, 0.005284635444122185, 0.005284635444122185, 0.005284635444122185, 0.005284635444122185, 0.005284635444122185, 0.005284635444122185, 0.005284635444122185, 0.005284635444122185, 0.005284635444122185, 0.005284635444122185, 0.005284635444122185, 0.005284635444122185]}], \"normalized_mean_absolute_error\": [{\"categories\": [\"0\", \"1\", \"2\", \"3\", \"4\", \"5\", \"6\", \"7\", \"8\", \"9\", \"10\", \"11\", \"12\", \"13\", \"14\", \"15\", \"16\", \"17\", \"18\", \"19\", \"20\", \"21\", \"22\", \"23\", \"24\", \"25\", \"26\", \"27\", \"28\", \"30\", \"31\"], \"mode\": \"markers\", \"name\": \"normalized_mean_absolute_error\", \"stepped\": false, \"type\": \"scatter\", \"data\": [0.008935813190536419, 0.010466568770681433, 0.01534158348458771, 0.01495463189919564, 0.012379581805686463, 0.014224013629802704, 0.016642214744290236, 0.015809325047854362, 0.01574473301931956, 0.019501385771920017, 0.01580613245955105, 0.018464502079835722, 0.018930027833185065, 0.015764964212941747, 0.015292707211832887, 0.016638179299212574, 0.013741040344826521, 0.014281162947432476, 0.06892922198545917, 0.013065189131451441, 0.014964083660684194, 0.015404160671217627, 0.013187026224480498, 0.013048083353036278, 0.012550482517243833, 0.01764865953269868, 0.01444757514627113, 0.013307454817377435, 0.014173459208576298, 0.008935813190536419, 0.008959443186392106]}, {\"categories\": [\"0\", \"1\", \"2\", \"3\", \"4\", \"5\", \"6\", \"7\", \"8\", \"9\", \"10\", \"11\", \"12\", \"13\", \"14\", \"15\", \"16\", \"17\", \"18\", \"19\", \"20\", \"21\", \"22\", \"23\", \"24\", \"25\", \"26\", \"27\", \"28\", \"30\", \"31\"], \"mode\": \"lines\", \"name\": \"normalized_mean_absolute_error_min\", \"stepped\": true, \"type\": \"scatter\", \"data\": [0.008935813190536419, 0.008935813190536419, 0.008935813190536419, 0.008935813190536419, 0.008935813190536419, 0.008935813190536419, 0.008935813190536419, 0.008935813190536419, 0.008935813190536419, 0.008935813190536419, 0.008935813190536419, 0.008935813190536419, 0.008935813190536419, 0.008935813190536419, 0.008935813190536419, 0.008935813190536419, 0.008935813190536419, 0.008935813190536419, 0.008935813190536419, 0.008935813190536419, 0.008935813190536419, 0.008935813190536419, 0.008935813190536419, 0.008935813190536419, 0.008935813190536419, 0.008935813190536419, 0.008935813190536419, 0.008935813190536419, 0.008935813190536419, 0.008935813190536419, 0.008935813190536419]}], \"mean_absolute_percentage_error\": [{\"categories\": [\"0\", \"1\", \"2\", \"3\", \"4\", \"5\", \"6\", \"7\", \"8\", \"9\", \"10\", \"11\", \"12\", \"13\", \"14\", \"15\", \"16\", \"17\", \"18\", \"19\", \"20\", \"21\", \"22\", \"23\", \"24\", \"25\", \"26\", \"27\", \"28\", \"30\", \"31\"], \"mode\": \"markers\", \"name\": \"mean_absolute_percentage_error\", \"stepped\": false, \"type\": \"scatter\", \"data\": [12.996472615780695, 15.417339030567328, 21.22731949857243, 20.589771958398483, 17.145825639288052, 19.85834331105546, 23.15113220155451, 22.123441019424952, 22.082469768223994, 31.2811154750284, 21.907325150453268, 29.30147314169916, 26.47634261703185, 23.849496839565045, 21.001960383987342, 22.957839556208206, 19.067928478561537, 19.80851572665312, 96.99979889310033, 18.220018122560514, 20.800840068129787, 21.419855894676992, 18.630237165448683, 18.252753188324, 18.07557140410971, 25.980545165964315, 20.470721310745922, 18.517419650787097, 20.080883589642944, 12.996472615780695, 12.977131196059315]}, {\"categories\": [\"0\", \"1\", \"2\", \"3\", \"4\", \"5\", \"6\", \"7\", \"8\", \"9\", \"10\", \"11\", \"12\", \"13\", \"14\", \"15\", \"16\", \"17\", \"18\", \"19\", \"20\", \"21\", \"22\", \"23\", \"24\", \"25\", \"26\", \"27\", \"28\", \"30\", \"31\"], \"mode\": \"lines\", \"name\": \"mean_absolute_percentage_error_min\", \"stepped\": true, \"type\": \"scatter\", \"data\": [12.996472615780695, 12.996472615780695, 12.996472615780695, 12.996472615780695, 12.996472615780695, 12.996472615780695, 12.996472615780695, 12.996472615780695, 12.996472615780695, 12.996472615780695, 12.996472615780695, 12.996472615780695, 12.996472615780695, 12.996472615780695, 12.996472615780695, 12.996472615780695, 12.996472615780695, 12.996472615780695, 12.996472615780695, 12.996472615780695, 12.996472615780695, 12.996472615780695, 12.996472615780695, 12.996472615780695, 12.996472615780695, 12.996472615780695, 12.996472615780695, 12.996472615780695, 12.996472615780695, 12.996472615780695, 12.977131196059315]}]}, \"metricName\": null, \"primaryMetricName\": \"normalized_mean_absolute_error\", \"showLegend\": false}, \"run_metrics\": [{\"name\": \"experiment_status\", \"run_id\": \"AutoML_a6ec38e7-9680-4b79-866b-f62133f6cb79\", \"categories\": [0, 1, 2, 3, 4, 5, 6, 7, 8, 9, 10, 11, 12, 13], \"series\": [{\"data\": [\"DatasetEvaluation\", \"FeaturesGeneration\", \"DatasetFeaturization\", \"DatasetFeaturizationCompleted\", \"DatasetCrossValidationSplit\", \"ModelSelection\", \"BestRunExplainModel\", \"ModelExplanationDataSetSetup\", \"PickSurrogateModel\", \"EngineeredFeatureExplanations\", \"EngineeredFeatureExplanations\", \"RawFeaturesExplanations\", \"RawFeaturesExplanations\", \"BestRunExplainModel\"]}]}, {\"name\": \"experiment_status_description\", \"run_id\": \"AutoML_a6ec38e7-9680-4b79-866b-f62133f6cb79\", \"categories\": [0, 1, 2, 3, 4, 5, 6, 7, 8, 9, 10, 11, 12, 13], \"series\": [{\"data\": [\"Gathering dataset statistics.\", \"Generating features for the dataset.\", \"Beginning to fit featurizers and featurize the dataset.\", \"Completed fit featurizers and featurizing the dataset.\", \"Generating individually featurized CV splits.\", \"Beginning model selection.\", \"Best run model explanations started\", \"Model explanations data setup completed\", \"Choosing LightGBM as the surrogate model for explanations\", \"Computation of engineered features started\", \"Computation of engineered features completed\", \"Computation of raw features started\", \"Computation of raw features completed\", \"Best run model explanations completed\"]}]}, {\"name\": \"spearman_correlation\", \"run_id\": \"AutoML_a6ec38e7-9680-4b79-866b-f62133f6cb79\", \"categories\": [0], \"series\": [{\"data\": [0.9457412429331027]}]}, {\"name\": \"explained_variance\", \"run_id\": \"AutoML_a6ec38e7-9680-4b79-866b-f62133f6cb79\", \"categories\": [0], \"series\": [{\"data\": [0.8775901457749669]}]}, {\"name\": \"median_absolute_error\", \"run_id\": \"AutoML_a6ec38e7-9680-4b79-866b-f62133f6cb79\", \"categories\": [0], \"series\": [{\"data\": [40295.34526143167]}]}, {\"name\": \"root_mean_squared_log_error\", \"run_id\": \"AutoML_a6ec38e7-9680-4b79-866b-f62133f6cb79\", \"categories\": [0], \"series\": [{\"data\": [0.173884968254788]}]}, {\"name\": \"root_mean_squared_error\", \"run_id\": \"AutoML_a6ec38e7-9680-4b79-866b-f62133f6cb79\", \"categories\": [0], \"series\": [{\"data\": [126356.9692472599]}]}, {\"name\": \"r2_score\", \"run_id\": \"AutoML_a6ec38e7-9680-4b79-866b-f62133f6cb79\", \"categories\": [0], \"series\": [{\"data\": [0.8775462246277781]}]}, {\"name\": \"mean_absolute_error\", \"run_id\": \"AutoML_a6ec38e7-9680-4b79-866b-f62133f6cb79\", \"categories\": [0], \"series\": [{\"data\": [68135.57557784018]}]}, {\"name\": \"normalized_root_mean_squared_log_error\", \"run_id\": \"AutoML_a6ec38e7-9680-4b79-866b-f62133f6cb79\", \"categories\": [0], \"series\": [{\"data\": [0.037544193777620874]}]}, {\"name\": \"normalized_root_mean_squared_error\", \"run_id\": \"AutoML_a6ec38e7-9680-4b79-866b-f62133f6cb79\", \"categories\": [0], \"series\": [{\"data\": [0.016571405802919333]}]}, {\"name\": \"normalized_median_absolute_error\", \"run_id\": \"AutoML_a6ec38e7-9680-4b79-866b-f62133f6cb79\", \"categories\": [0], \"series\": [{\"data\": [0.005284635444122185]}]}, {\"name\": \"normalized_mean_absolute_error\", \"run_id\": \"AutoML_a6ec38e7-9680-4b79-866b-f62133f6cb79\", \"categories\": [0], \"series\": [{\"data\": [0.008935813190536419]}]}, {\"name\": \"mean_absolute_percentage_error\", \"run_id\": \"AutoML_a6ec38e7-9680-4b79-866b-f62133f6cb79\", \"categories\": [0], \"series\": [{\"data\": [12.996472615780695]}]}], \"run_logs\": \"\\nRun is completed.\", \"graph\": {}, \"widget_settings\": {\"childWidgetDisplay\": \"popup\", \"send_telemetry\": false, \"log_level\": \"INFO\", \"sdk_version\": \"1.18.0\"}, \"loading\": false}"
          },
          "metadata": {}
        },
        {
          "output_type": "execute_result",
          "execution_count": 10,
          "data": {
            "text/plain": "{'runId': 'AutoML_a6ec38e7-9680-4b79-866b-f62133f6cb79',\n 'target': 'local',\n 'status': 'Completed',\n 'startTimeUtc': '2020-12-06T19:03:11.306899Z',\n 'endTimeUtc': '2020-12-06T19:23:38.146753Z',\n 'properties': {'num_iterations': '1000',\n  'training_type': 'TrainFull',\n  'acquisition_function': 'EI',\n  'primary_metric': 'normalized_mean_absolute_error',\n  'train_split': '0',\n  'acquisition_parameter': '0',\n  'num_cross_validation': '5',\n  'target': 'local',\n  'AMLSettingsJsonString': '{\"path\":null,\"name\":\"Avinash-AutoML\",\"subscription_id\":\"e8f628b3-bb5b-4edf-947a-8637ca6ea7c2\",\"resource_group\":\"aml-quickstarts-129522\",\"workspace_name\":\"quick-starts-ws-129522\",\"region\":\"southcentralus\",\"compute_target\":\"local\",\"spark_service\":null,\"azure_service\":\"Microsoft.AzureNotebookVM\",\"_local_managed_run_id\":null,\"many_models\":false,\"pipeline_fetch_max_batch_size\":1,\"iterations\":1000,\"primary_metric\":\"normalized_mean_absolute_error\",\"task_type\":\"regression\",\"data_script\":null,\"validation_size\":0.0,\"n_cross_validations\":5,\"y_min\":null,\"y_max\":null,\"num_classes\":null,\"featurization\":\"auto\",\"_ignore_package_version_incompatibilities\":false,\"is_timeseries\":false,\"max_cores_per_iteration\":1,\"max_concurrent_iterations\":1,\"iteration_timeout_minutes\":10,\"mem_in_mb\":null,\"enforce_time_on_windows\":false,\"experiment_timeout_minutes\":18,\"experiment_exit_score\":null,\"whitelist_models\":null,\"blacklist_algos\":[\"TensorFlowDNN\",\"TensorFlowLinearRegressor\"],\"supported_models\":[\"RandomForest\",\"ExtremeRandomTrees\",\"LightGBM\",\"KNN\",\"OnlineGradientDescentRegressor\",\"SGD\",\"LassoLars\",\"TensorFlowLinearRegressor\",\"GradientBoosting\",\"DecisionTree\",\"ElasticNet\",\"XGBoostRegressor\",\"TensorFlowDNN\",\"FastLinearRegressor\"],\"auto_blacklist\":true,\"blacklist_samples_reached\":false,\"exclude_nan_labels\":true,\"verbosity\":20,\"_debug_log\":\"automl_reg_errors.log\",\"show_warnings\":false,\"model_explainability\":true,\"service_url\":null,\"sdk_url\":null,\"sdk_packages\":null,\"enable_onnx_compatible_models\":false,\"enable_split_onnx_featurizer_estimator_models\":false,\"vm_type\":null,\"telemetry_verbosity\":20,\"send_telemetry\":true,\"enable_dnn\":false,\"scenario\":\"SDK-1.13.0\",\"environment_label\":null,\"force_text_dnn\":false,\"enable_feature_sweeping\":true,\"enable_early_stopping\":true,\"early_stopping_n_iters\":10,\"metrics\":null,\"enable_ensembling\":true,\"enable_stack_ensembling\":true,\"ensemble_iterations\":15,\"enable_tf\":false,\"enable_subsampling\":null,\"subsample_seed\":null,\"enable_nimbusml\":false,\"enable_streaming\":false,\"force_streaming\":false,\"track_child_runs\":true,\"allowed_private_models\":[],\"label_column_name\":\"price\",\"weight_column_name\":null,\"cv_split_column_names\":null,\"enable_local_managed\":false,\"cost_mode\":1,\"lag_length\":0,\"metric_operation\":\"minimize\",\"preprocess\":true}',\n  'DataPrepJsonString': None,\n  'EnableSubsampling': None,\n  'runTemplate': 'AutoML',\n  'azureml.runsource': 'automl',\n  'display_task_type': 'regression',\n  'dependencies_versions': '{\"azureml-widgets\": \"1.18.0\", \"azureml-train\": \"1.18.0\", \"azureml-train-restclients-hyperdrive\": \"1.18.0\", \"azureml-train-core\": \"1.18.0\", \"azureml-train-automl\": \"1.18.0\", \"azureml-train-automl-runtime\": \"1.18.0\", \"azureml-train-automl-client\": \"1.18.0\", \"azureml-tensorboard\": \"1.18.0\", \"azureml-telemetry\": \"1.18.0\", \"azureml-sdk\": \"1.18.0\", \"azureml-samples\": \"0+unknown\", \"azureml-pipeline\": \"1.18.0\", \"azureml-pipeline-steps\": \"1.18.0\", \"azureml-pipeline-core\": \"1.18.0\", \"azureml-opendatasets\": \"1.18.0\", \"azureml-model-management-sdk\": \"1.0.1b6.post1\", \"azureml-mlflow\": \"1.18.0\", \"azureml-interpret\": \"1.18.0\", \"azureml-explain-model\": \"1.18.0\", \"azureml-defaults\": \"1.18.0\", \"azureml-dataset-runtime\": \"1.18.0\", \"azureml-dataprep\": \"2.4.2\", \"azureml-dataprep-rslex\": \"1.2.2\", \"azureml-dataprep-native\": \"24.0.0\", \"azureml-datadrift\": \"1.18.0\", \"azureml-core\": \"1.18.0\", \"azureml-contrib-services\": \"1.18.0\", \"azureml-contrib-server\": \"1.18.0\", \"azureml-contrib-reinforcementlearning\": \"1.18.0\", \"azureml-contrib-pipeline-steps\": \"1.18.0\", \"azureml-contrib-notebook\": \"1.18.0\", \"azureml-contrib-interpret\": \"1.18.0\", \"azureml-contrib-gbdt\": \"1.18.0\", \"azureml-contrib-fairness\": \"1.18.0\", \"azureml-contrib-dataset\": \"1.18.0\", \"azureml-cli-common\": \"1.18.0\", \"azureml-automl-runtime\": \"1.18.0\", \"azureml-automl-core\": \"1.18.0\", \"azureml-accel-models\": \"1.18.0\"}',\n  '_aml_system_scenario_identification': 'Local.Parent',\n  'ClientSdkVersion': '1.18.0',\n  'ClientType': 'SDK',\n  'environment_cpu_name': 'AzureML-AutoML',\n  'environment_cpu_version': '48',\n  'environment_gpu_name': 'AzureML-AutoML-GPU',\n  'environment_gpu_version': '36',\n  'root_attribution': 'automl',\n  'attribution': 'AutoML',\n  'Orchestrator': 'AutoML',\n  '_azureml.ComputeTargetType': 'local',\n  'ProblemInfoJsonString': '{\"dataset_num_categorical\": 0, \"is_sparse\": true, \"subsampling\": false, \"dataset_classes\": 3557, \"dataset_features\": 305, \"dataset_samples\": 17290, \"single_frequency_class_detected\": false}',\n  'feature_skus': 'automatedml_sdk_guardrails'},\n 'inputDatasets': [],\n 'outputDatasets': [],\n 'logFiles': {}}"
          },
          "metadata": {}
        }
      ],
      "execution_count": 10,
      "metadata": {
        "collapsed": true,
        "jupyter": {
          "source_hidden": false,
          "outputs_hidden": false
        },
        "nteract": {
          "transient": {
            "deleting": false
          }
        },
        "gather": {
          "logged": 1607283282717
        }
      }
    },
    {
      "cell_type": "markdown",
      "source": [
        "## Best Model\n",
        "\n",
        "\n",
        "\n"
      ],
      "metadata": {}
    },
    {
      "cell_type": "code",
      "source": [
        "best_run,fitted_model = remote_run.get_output()\n",
        "print(best_run)\n",
        "print(fitted_model.steps)\n"
      ],
      "outputs": [
        {
          "output_type": "stream",
          "name": "stdout",
          "text": [
            "Run(Experiment: Avinash-AutoML,\n",
            "Id: AutoML_a6ec38e7-9680-4b79-866b-f62133f6cb79_30,\n",
            "Type: None,\n",
            "Status: Completed)\n",
            "[('datatransformer', DataTransformer(enable_dnn=None, enable_feature_sweeping=None,\n",
            "                feature_sweeping_config=None, feature_sweeping_timeout=None,\n",
            "                featurization_config=None, force_text_dnn=None,\n",
            "                is_cross_validation=None, is_onnx_compatible=None, logger=None,\n",
            "                observer=None, task=None, working_dir=None)), ('prefittedsoftvotingregressor', PreFittedSoftVotingRegressor(estimators=[('0',\n",
            "                                          Pipeline(memory=None,\n",
            "                                                   steps=[('maxabsscaler',\n",
            "                                                           MaxAbsScaler(copy=True)),\n",
            "                                                          ('lightgbmregressor',\n",
            "                                                           LightGBMRegressor(boosting_type='gbdt',\n",
            "                                                                             class_weight=None,\n",
            "                                                                             colsample_bytree=1.0,\n",
            "                                                                             importance_type='split',\n",
            "                                                                             learning_rate=0.1,\n",
            "                                                                             max_depth=-1,\n",
            "                                                                             min_child_samples=20,\n",
            "                                                                             min_child_weight=0.001,\n",
            "                                                                             min_split_gain=0.0,\n",
            "                                                                             n_estimators=100,\n",
            "                                                                             n_jobs=1,\n",
            "                                                                             num_leaves=31,\n",
            "                                                                             objective=None,\n",
            "                                                                             random_state=None,\n",
            "                                                                             reg_alpha=0.0,\n",
            "                                                                             reg_lambda=0.0,\n",
            "                                                                             silent=True,\n",
            "                                                                             subsample=1.0,\n",
            "                                                                             subsample_for_bin=200000,\n",
            "                                                                             subsample_freq=0,\n",
            "                                                                             verbose=-1))],\n",
            "                                                   verbose=False))],\n",
            "                             weights=[1.0]))]\n"
          ]
        }
      ],
      "execution_count": 11,
      "metadata": {
        "gather": {
          "logged": 1607283300896
        },
        "jupyter": {
          "outputs_hidden": false,
          "source_hidden": false
        },
        "nteract": {
          "transient": {
            "deleting": false
          }
        }
      }
    },
    {
      "cell_type": "code",
      "source": [
        "#TODO: Save the best model\n",
        "import joblib\n",
        "\n",
        "joblib.dump(fitted_model,\"housing_sales.pkl\")\n"
      ],
      "outputs": [
        {
          "output_type": "execute_result",
          "execution_count": 12,
          "data": {
            "text/plain": "['housing_sales.pkl']",
            "text/html": "['housing_sales.pkl']"
          },
          "metadata": {}
        }
      ],
      "execution_count": 12,
      "metadata": {
        "gather": {
          "logged": 1607283305813
        },
        "jupyter": {
          "outputs_hidden": false,
          "source_hidden": false
        },
        "nteract": {
          "transient": {
            "deleting": false
          }
        }
      }
    },
    {
      "cell_type": "code",
      "source": [
        "model = best_run.register_model(model_path = './outputs',model_name = 'house_sales1')"
      ],
      "outputs": [],
      "execution_count": 13,
      "metadata": {
        "collapsed": true,
        "gather": {
          "logged": 1607283314239
        },
        "jupyter": {
          "outputs_hidden": false,
          "source_hidden": false
        },
        "nteract": {
          "transient": {
            "deleting": false
          }
        }
      }
    },
    {
      "cell_type": "markdown",
      "source": [
        "## Model Deployment\n",
        "\n",
        "Remember you have to deploy only one of the two models you trained.. Perform the steps in the rest of this notebook only if you wish to deploy this model.\n",
        "\n"
      ],
      "metadata": {}
    },
    {
      "cell_type": "code",
      "source": [
        "from azureml.core.webservice import AciWebservice\n",
        "from azureml.core.model import InferenceConfig\n",
        "from azureml.core.model import Model\n",
        "\n",
        "from azureml.core.environment import Environment\n",
        "from azureml.automl.core.shared import constants\n",
        "best_run.download_file(constants.CONDA_ENV_FILE_PATH, 'myenv.yml')\n",
        "myenv = Environment.from_conda_specification(name=\"myenv\", file_path=\"myenv.yml\")\n",
        "\n",
        "\n",
        "inference_config = InferenceConfig(entry_script=\"scoring.py\",environment=myenv)\n",
        "\n",
        "aci_config = AciWebservice.deploy_configuration(\n",
        "    cpu_cores=1,\n",
        "    auth_enabled=True,\n",
        "    memory_gb=1,\n",
        "    tags = {'name':'housing sales'},\n",
        "    description='housing sales model'\n",
        ")\n",
        "\n",
        "service = Model.deploy(workspace=ws,\n",
        "                        name = 'house-sale',\n",
        "                        models= [model],\n",
        "                        inference_config=inference_config,\n",
        "                        deployment_config=aci_config\n",
        ")\n",
        "\n",
        "service.wait_for_deployment(True)\n",
        "print(service.state)\n"
      ],
      "outputs": [
        {
          "output_type": "stream",
          "name": "stdout",
          "text": [
            "Tips: You can try get_logs(): https://aka.ms/debugimage#dockerlog or local deployment: https://aka.ms/debugimage#debug-locally to debug if deployment takes longer than 10 minutes.\n",
            "Running....................................................................................................................................................................................\n",
            "Succeeded\n",
            "ACI service creation operation finished, operation \"Succeeded\"\n",
            "Healthy\n"
          ]
        }
      ],
      "execution_count": 14,
      "metadata": {
        "gather": {
          "logged": 1607284265296
        },
        "jupyter": {
          "outputs_hidden": false,
          "source_hidden": false
        },
        "nteract": {
          "transient": {
            "deleting": false
          }
        }
      }
    },
    {
      "cell_type": "markdown",
      "source": [
        "Calling the Model Endpoint "
      ],
      "metadata": {
        "collapsed": true,
        "gather": {
          "logged": 1598431657736
        },
        "jupyter": {
          "outputs_hidden": false,
          "source_hidden": false
        },
        "nteract": {
          "transient": {
            "deleting": false
          }
        }
      }
    },
    {
      "cell_type": "code",
      "source": [
        "y_test = x_test.pop(\"price\")\n",
        "import json \n",
        "import requests\n",
        "\n",
        "x_json = x_test[:5].to_json(orient = 'records')\n",
        "parsed = json.loads(x_json)\n",
        "\n",
        "#print(parsed)\n",
        "test_samples = json.dumps({\"data\":parsed})\n",
        "\n",
        "# send a random row from the test set to score\n",
        "\n",
        "key1, Key2 = service.get_keys()\n",
        "\n",
        "headers = {'Content-Type':'application/json', 'Authorization': 'Bearer ' + key1}\n",
        "\n",
        "result = requests.post(service.scoring_uri, test_samples, headers=headers)\n",
        "\n",
        "\n",
        "print(\"POST to url\", service.scoring_uri)\n",
        "#print(\"input data:\", input_data)\n",
        "print(\"label:\", y_test[0:5])\n",
        "#print(\"prediction:\", resp.text)\n",
        "\n",
        "print(\"predicted model output: \",result)\n"
      ],
      "outputs": [
        {
          "output_type": "stream",
          "name": "stdout",
          "text": [
            "POST to url http://899f69d8-fe49-49c5-9fcf-5d8e615b784a.southcentralus.azurecontainer.io/score\n",
            "label: 735      365000.00\n",
            "2830     865000.00\n",
            "4106    1038000.00\n",
            "16218   1490000.00\n",
            "19964    711000.00\n",
            "Name: price, dtype: float64\n",
            "predicted model output:  [401975.47936734813, 959191.3428419649, 1089646.7725140043, 1584312.9401446793, 687234.4692346373]\n"
          ]
        }
      ],
      "execution_count": 18,
      "metadata": {
        "gather": {
          "logged": 1607284379566
        },
        "jupyter": {
          "outputs_hidden": false,
          "source_hidden": false
        },
        "nteract": {
          "transient": {
            "deleting": false
          }
        }
      }
    },
    {
      "cell_type": "markdown",
      "source": [
        "Printing the Logs and deleting the service"
      ],
      "metadata": {
        "collapsed": true,
        "gather": {
          "logged": 1598432765711
        },
        "jupyter": {
          "outputs_hidden": false,
          "source_hidden": false
        },
        "nteract": {
          "transient": {
            "deleting": false
          }
        }
      }
    },
    {
      "cell_type": "code",
      "source": [
        "service.get_logs()\n"
      ],
      "outputs": [
        {
          "output_type": "execute_result",
          "execution_count": 19,
          "data": {
            "text/plain": "'2020-12-06T19:50:44.468557Z stdout F 2020-12-06T19:50:44,619602900+00:00 - gunicorn/run \\n2020-12-06T19:50:44.468557Z stdout F 2020-12-06T19:50:44,618788500+00:00 - iot-server/run \\n2020-12-06T19:50:44.4864279Z stdout F 2020-12-06T19:50:44,637069100+00:00 - rsyslog/run \\n2020-12-06T19:50:44.5626152Z stdout F 2020-12-06T19:50:44,713621200+00:00 - nginx/run \\n2020-12-06T19:50:44.5685821Z stderr F /usr/sbin/nginx: /azureml-envs/azureml_99474c16f35a92149d1cc6dec149d8e9/lib/libcrypto.so.1.0.0: no version information available (required by /usr/sbin/nginx)\\n2020-12-06T19:50:44.5685821Z stderr F /usr/sbin/nginx: /azureml-envs/azureml_99474c16f35a92149d1cc6dec149d8e9/lib/libcrypto.so.1.0.0: no version information available (required by /usr/sbin/nginx)\\n2020-12-06T19:50:44.5728203Z stderr F /usr/sbin/nginx: /azureml-envs/azureml_99474c16f35a92149d1cc6dec149d8e9/lib/libssl.so.1.0.0: no version information available (required by /usr/sbin/nginx)\\n2020-12-06T19:50:44.5728203Z stderr F /usr/sbin/nginx: /azureml-envs/azureml_99474c16f35a92149d1cc6dec149d8e9/lib/libssl.so.1.0.0: no version information available (required by /usr/sbin/nginx)\\n2020-12-06T19:50:44.5728203Z stderr F /usr/sbin/nginx: /azureml-envs/azureml_99474c16f35a92149d1cc6dec149d8e9/lib/libssl.so.1.0.0: no version information available (required by /usr/sbin/nginx)\\n2020-12-06T19:50:44.6025675Z stderr F rsyslogd: /azureml-envs/azureml_99474c16f35a92149d1cc6dec149d8e9/lib/libuuid.so.1: no version information available (required by rsyslogd)\\n2020-12-06T19:50:46.7908147Z stdout F EdgeHubConnectionString and IOTEDGE_IOTHUBHOSTNAME are not set. Exiting...\\n2020-12-06T19:50:46.800808Z stdout F 2020-12-06T19:50:46,949431800+00:00 - iot-server/finish 1 0\\n2020-12-06T19:50:46.800808Z stdout F 2020-12-06T19:50:46,950823700+00:00 - Exit code 1 is normal. Not restarting iot-server.\\n2020-12-06T19:50:46.8938294Z stdout F Starting gunicorn 19.9.0\\n2020-12-06T19:50:46.8938294Z stdout F Listening at: http://127.0.0.1:31311 (63)\\n2020-12-06T19:50:46.8938294Z stdout F Using worker: sync\\n2020-12-06T19:50:46.8958245Z stdout F worker timeout is set to 300\\n2020-12-06T19:50:46.8988227Z stdout F Booting worker with pid: 94\\n2020-12-06T19:50:54.1520697Z stdout F SPARK_HOME not set. Skipping PySpark Initialization.\\n2020-12-06T19:50:54.1520697Z stdout F Generating new fontManager, this may take some time...\\n2020-12-06T19:50:57.5429025Z stdout F Initializing logger\\n2020-12-06T19:50:57.5429025Z stdout F 2020-12-06 19:50:57,691 | root | INFO | Starting up app insights client\\n2020-12-06T19:50:57.5429025Z stdout F Starting up app insights client\\n2020-12-06T19:50:57.5429025Z stdout F 2020-12-06 19:50:57,692 | root | INFO | Starting up request id generator\\n2020-12-06T19:50:57.5429025Z stdout F Starting up request id generator\\n2020-12-06T19:50:57.5429025Z stdout F 2020-12-06 19:50:57,692 | root | INFO | Starting up app insight hooks\\n2020-12-06T19:50:57.5429025Z stdout F Starting up app insight hooks\\n2020-12-06T19:50:57.5439023Z stdout F 2020-12-06 19:50:57,692 | root | INFO | Invoking user\\'s init function\\n2020-12-06T19:50:57.5439023Z stdout F Invoking user\\'s init function\\n2020-12-06T19:51:02.1444261Z stdout F azureml-models/house_sales1/1/outputs\\n2020-12-06T19:51:02.1444261Z stdout F azureml-models/house_sales1/1/outputs/model.pkl\\n2020-12-06T19:51:02.1444261Z stdout F 2020-12-06 19:51:02,291 | root | INFO | Users\\'s init has completed successfully\\n2020-12-06T19:51:02.1444261Z stdout F Users\\'s init has completed successfully\\n2020-12-06T19:51:02.1505061Z stdout F 2020-12-06 19:51:02,300 | root | INFO | Skipping middleware: dbg_model_info as it\\'s not enabled.\\n2020-12-06T19:51:02.1505061Z stdout F Skipping middleware: dbg_model_info as it\\'s not enabled.\\n2020-12-06T19:51:02.1505061Z stdout F 2020-12-06 19:51:02,300 | root | INFO | Skipping middleware: dbg_resource_usage as it\\'s not enabled.\\n2020-12-06T19:51:02.1505061Z stdout F Skipping middleware: dbg_resource_usage as it\\'s not enabled.\\n2020-12-06T19:51:02.1605044Z stdout F 2020-12-06 19:51:02,306 | root | INFO | Scoring timeout is found from os.environ: 60000 ms\\n2020-12-06T19:51:02.1615058Z stdout F Scoring timeout is found from os.environ: 60000 ms\\n2020-12-06T19:51:02.1955155Z stdout F 2020-12-06 19:51:02,343 | root | INFO | Swagger file not present\\n2020-12-06T19:51:02.1955155Z stdout F Swagger file not present\\n2020-12-06T19:51:02.1955155Z stdout F 2020-12-06 19:51:02,344 | root | INFO | 404\\n2020-12-06T19:51:02.1955155Z stdout F 404\\n2020-12-06T19:51:02.1955155Z stdout F 127.0.0.1 - - [06/Dec/2020:19:51:02 +0000] \"GET /swagger.json HTTP/1.0\" 404 19 \"-\" \"Go-http-client/1.1\"\\n2020-12-06T19:51:05.0792469Z stdout F 2020-12-06 19:51:05,229 | root | INFO | Swagger file not present\\n2020-12-06T19:51:05.0792469Z stdout F Swagger file not present\\n2020-12-06T19:51:05.0802474Z stdout F 2020-12-06 19:51:05,229 | root | INFO | 404\\n2020-12-06T19:51:05.0802474Z stdout F 404\\n2020-12-06T19:51:05.0812821Z stdout F 127.0.0.1 - - [06/Dec/2020:19:51:05 +0000] \"GET /swagger.json HTTP/1.0\" 404 19 \"-\" \"Go-http-client/1.1\"\\n'"
          },
          "metadata": {}
        }
      ],
      "execution_count": 19,
      "metadata": {
        "gather": {
          "logged": 1607284460684
        },
        "jupyter": {
          "outputs_hidden": false,
          "source_hidden": false
        },
        "nteract": {
          "transient": {
            "deleting": false
          }
        }
      }
    },
    {
      "cell_type": "code",
      "source": [
        "service.delete()"
      ],
      "outputs": [],
      "execution_count": 20,
      "metadata": {
        "collapsed": true,
        "gather": {
          "logged": 1607284465059
        },
        "jupyter": {
          "outputs_hidden": false,
          "source_hidden": false
        },
        "nteract": {
          "transient": {
            "deleting": false
          }
        }
      }
    },
    {
      "cell_type": "code",
      "source": [],
      "outputs": [],
      "execution_count": null,
      "metadata": {
        "collapsed": true,
        "jupyter": {
          "source_hidden": false,
          "outputs_hidden": false
        },
        "nteract": {
          "transient": {
            "deleting": false
          }
        }
      }
    }
  ],
  "metadata": {
    "kernel_info": {
      "name": "python3"
    },
    "kernelspec": {
      "name": "python3",
      "language": "python",
      "display_name": "Python 3"
    },
    "language_info": {
      "name": "python",
      "version": "3.6.9",
      "mimetype": "text/x-python",
      "codemirror_mode": {
        "name": "ipython",
        "version": 3
      },
      "pygments_lexer": "ipython3",
      "nbconvert_exporter": "python",
      "file_extension": ".py"
    },
    "nteract": {
      "version": "nteract-front-end@1.0.0"
    }
  },
  "nbformat": 4,
  "nbformat_minor": 2
}